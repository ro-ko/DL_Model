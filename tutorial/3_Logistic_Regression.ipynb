{
  "nbformat": 4,
  "nbformat_minor": 0,
  "metadata": {
    "colab": {
      "name": "3.Logistic Regression.ipynb의 사본",
      "provenance": [],
      "collapsed_sections": [],
      "include_colab_link": true
    },
    "kernelspec": {
      "name": "python3",
      "display_name": "Python 3"
    },
    "accelerator": "GPU",
    "widgets": {
      "application/vnd.jupyter.widget-state+json": {
        "490d3e0077d44743929a910f5e66dcff": {
          "model_module": "@jupyter-widgets/controls",
          "model_name": "HBoxModel",
          "model_module_version": "1.5.0",
          "state": {
            "_view_name": "HBoxView",
            "_dom_classes": [],
            "_model_name": "HBoxModel",
            "_view_module": "@jupyter-widgets/controls",
            "_model_module_version": "1.5.0",
            "_view_count": null,
            "_view_module_version": "1.5.0",
            "box_style": "",
            "layout": "IPY_MODEL_651af21ce38745aab2a443979f3a7eb2",
            "_model_module": "@jupyter-widgets/controls",
            "children": [
              "IPY_MODEL_95ab416035174ae198144cab1ff35fc7",
              "IPY_MODEL_051d260e9af4471e93661950e2cf7bbe",
              "IPY_MODEL_f3f4fb0d883f467c9230b980aa4cc80b"
            ]
          }
        },
        "651af21ce38745aab2a443979f3a7eb2": {
          "model_module": "@jupyter-widgets/base",
          "model_name": "LayoutModel",
          "model_module_version": "1.2.0",
          "state": {
            "_view_name": "LayoutView",
            "grid_template_rows": null,
            "right": null,
            "justify_content": null,
            "_view_module": "@jupyter-widgets/base",
            "overflow": null,
            "_model_module_version": "1.2.0",
            "_view_count": null,
            "flex_flow": null,
            "width": null,
            "min_width": null,
            "border": null,
            "align_items": null,
            "bottom": null,
            "_model_module": "@jupyter-widgets/base",
            "top": null,
            "grid_column": null,
            "overflow_y": null,
            "overflow_x": null,
            "grid_auto_flow": null,
            "grid_area": null,
            "grid_template_columns": null,
            "flex": null,
            "_model_name": "LayoutModel",
            "justify_items": null,
            "grid_row": null,
            "max_height": null,
            "align_content": null,
            "visibility": null,
            "align_self": null,
            "height": null,
            "min_height": null,
            "padding": null,
            "grid_auto_rows": null,
            "grid_gap": null,
            "max_width": null,
            "order": null,
            "_view_module_version": "1.2.0",
            "grid_template_areas": null,
            "object_position": null,
            "object_fit": null,
            "grid_auto_columns": null,
            "margin": null,
            "display": null,
            "left": null
          }
        },
        "95ab416035174ae198144cab1ff35fc7": {
          "model_module": "@jupyter-widgets/controls",
          "model_name": "HTMLModel",
          "model_module_version": "1.5.0",
          "state": {
            "_view_name": "HTMLView",
            "style": "IPY_MODEL_c751bf09856f42178a0ed332cb3edf84",
            "_dom_classes": [],
            "description": "",
            "_model_name": "HTMLModel",
            "placeholder": "​",
            "_view_module": "@jupyter-widgets/controls",
            "_model_module_version": "1.5.0",
            "value": "",
            "_view_count": null,
            "_view_module_version": "1.5.0",
            "description_tooltip": null,
            "_model_module": "@jupyter-widgets/controls",
            "layout": "IPY_MODEL_54d9b4c9318b46d496e980eace6a7315"
          }
        },
        "051d260e9af4471e93661950e2cf7bbe": {
          "model_module": "@jupyter-widgets/controls",
          "model_name": "FloatProgressModel",
          "model_module_version": "1.5.0",
          "state": {
            "_view_name": "ProgressView",
            "style": "IPY_MODEL_620d1192ec1e423ea0d045610891c8e2",
            "_dom_classes": [],
            "description": "",
            "_model_name": "FloatProgressModel",
            "bar_style": "success",
            "max": 9912422,
            "_view_module": "@jupyter-widgets/controls",
            "_model_module_version": "1.5.0",
            "value": 9912422,
            "_view_count": null,
            "_view_module_version": "1.5.0",
            "orientation": "horizontal",
            "min": 0,
            "description_tooltip": null,
            "_model_module": "@jupyter-widgets/controls",
            "layout": "IPY_MODEL_0026c7c3fbac4b15a7b2f5243f8336a9"
          }
        },
        "f3f4fb0d883f467c9230b980aa4cc80b": {
          "model_module": "@jupyter-widgets/controls",
          "model_name": "HTMLModel",
          "model_module_version": "1.5.0",
          "state": {
            "_view_name": "HTMLView",
            "style": "IPY_MODEL_5fbe8d793ce74f7bab8d6c8038299bb9",
            "_dom_classes": [],
            "description": "",
            "_model_name": "HTMLModel",
            "placeholder": "​",
            "_view_module": "@jupyter-widgets/controls",
            "_model_module_version": "1.5.0",
            "value": " 9913344/? [00:00&lt;00:00, 30464680.97it/s]",
            "_view_count": null,
            "_view_module_version": "1.5.0",
            "description_tooltip": null,
            "_model_module": "@jupyter-widgets/controls",
            "layout": "IPY_MODEL_1a5c04412850479ea2d5a5ba024785cf"
          }
        },
        "c751bf09856f42178a0ed332cb3edf84": {
          "model_module": "@jupyter-widgets/controls",
          "model_name": "DescriptionStyleModel",
          "model_module_version": "1.5.0",
          "state": {
            "_view_name": "StyleView",
            "_model_name": "DescriptionStyleModel",
            "description_width": "",
            "_view_module": "@jupyter-widgets/base",
            "_model_module_version": "1.5.0",
            "_view_count": null,
            "_view_module_version": "1.2.0",
            "_model_module": "@jupyter-widgets/controls"
          }
        },
        "54d9b4c9318b46d496e980eace6a7315": {
          "model_module": "@jupyter-widgets/base",
          "model_name": "LayoutModel",
          "model_module_version": "1.2.0",
          "state": {
            "_view_name": "LayoutView",
            "grid_template_rows": null,
            "right": null,
            "justify_content": null,
            "_view_module": "@jupyter-widgets/base",
            "overflow": null,
            "_model_module_version": "1.2.0",
            "_view_count": null,
            "flex_flow": null,
            "width": null,
            "min_width": null,
            "border": null,
            "align_items": null,
            "bottom": null,
            "_model_module": "@jupyter-widgets/base",
            "top": null,
            "grid_column": null,
            "overflow_y": null,
            "overflow_x": null,
            "grid_auto_flow": null,
            "grid_area": null,
            "grid_template_columns": null,
            "flex": null,
            "_model_name": "LayoutModel",
            "justify_items": null,
            "grid_row": null,
            "max_height": null,
            "align_content": null,
            "visibility": null,
            "align_self": null,
            "height": null,
            "min_height": null,
            "padding": null,
            "grid_auto_rows": null,
            "grid_gap": null,
            "max_width": null,
            "order": null,
            "_view_module_version": "1.2.0",
            "grid_template_areas": null,
            "object_position": null,
            "object_fit": null,
            "grid_auto_columns": null,
            "margin": null,
            "display": null,
            "left": null
          }
        },
        "620d1192ec1e423ea0d045610891c8e2": {
          "model_module": "@jupyter-widgets/controls",
          "model_name": "ProgressStyleModel",
          "model_module_version": "1.5.0",
          "state": {
            "_view_name": "StyleView",
            "_model_name": "ProgressStyleModel",
            "description_width": "",
            "_view_module": "@jupyter-widgets/base",
            "_model_module_version": "1.5.0",
            "_view_count": null,
            "_view_module_version": "1.2.0",
            "bar_color": null,
            "_model_module": "@jupyter-widgets/controls"
          }
        },
        "0026c7c3fbac4b15a7b2f5243f8336a9": {
          "model_module": "@jupyter-widgets/base",
          "model_name": "LayoutModel",
          "model_module_version": "1.2.0",
          "state": {
            "_view_name": "LayoutView",
            "grid_template_rows": null,
            "right": null,
            "justify_content": null,
            "_view_module": "@jupyter-widgets/base",
            "overflow": null,
            "_model_module_version": "1.2.0",
            "_view_count": null,
            "flex_flow": null,
            "width": null,
            "min_width": null,
            "border": null,
            "align_items": null,
            "bottom": null,
            "_model_module": "@jupyter-widgets/base",
            "top": null,
            "grid_column": null,
            "overflow_y": null,
            "overflow_x": null,
            "grid_auto_flow": null,
            "grid_area": null,
            "grid_template_columns": null,
            "flex": null,
            "_model_name": "LayoutModel",
            "justify_items": null,
            "grid_row": null,
            "max_height": null,
            "align_content": null,
            "visibility": null,
            "align_self": null,
            "height": null,
            "min_height": null,
            "padding": null,
            "grid_auto_rows": null,
            "grid_gap": null,
            "max_width": null,
            "order": null,
            "_view_module_version": "1.2.0",
            "grid_template_areas": null,
            "object_position": null,
            "object_fit": null,
            "grid_auto_columns": null,
            "margin": null,
            "display": null,
            "left": null
          }
        },
        "5fbe8d793ce74f7bab8d6c8038299bb9": {
          "model_module": "@jupyter-widgets/controls",
          "model_name": "DescriptionStyleModel",
          "model_module_version": "1.5.0",
          "state": {
            "_view_name": "StyleView",
            "_model_name": "DescriptionStyleModel",
            "description_width": "",
            "_view_module": "@jupyter-widgets/base",
            "_model_module_version": "1.5.0",
            "_view_count": null,
            "_view_module_version": "1.2.0",
            "_model_module": "@jupyter-widgets/controls"
          }
        },
        "1a5c04412850479ea2d5a5ba024785cf": {
          "model_module": "@jupyter-widgets/base",
          "model_name": "LayoutModel",
          "model_module_version": "1.2.0",
          "state": {
            "_view_name": "LayoutView",
            "grid_template_rows": null,
            "right": null,
            "justify_content": null,
            "_view_module": "@jupyter-widgets/base",
            "overflow": null,
            "_model_module_version": "1.2.0",
            "_view_count": null,
            "flex_flow": null,
            "width": null,
            "min_width": null,
            "border": null,
            "align_items": null,
            "bottom": null,
            "_model_module": "@jupyter-widgets/base",
            "top": null,
            "grid_column": null,
            "overflow_y": null,
            "overflow_x": null,
            "grid_auto_flow": null,
            "grid_area": null,
            "grid_template_columns": null,
            "flex": null,
            "_model_name": "LayoutModel",
            "justify_items": null,
            "grid_row": null,
            "max_height": null,
            "align_content": null,
            "visibility": null,
            "align_self": null,
            "height": null,
            "min_height": null,
            "padding": null,
            "grid_auto_rows": null,
            "grid_gap": null,
            "max_width": null,
            "order": null,
            "_view_module_version": "1.2.0",
            "grid_template_areas": null,
            "object_position": null,
            "object_fit": null,
            "grid_auto_columns": null,
            "margin": null,
            "display": null,
            "left": null
          }
        }
      }
    }
  },
  "cells": [
    {
      "cell_type": "markdown",
      "metadata": {
        "id": "view-in-github",
        "colab_type": "text"
      },
      "source": [
        "<a href=\"https://colab.research.google.com/github/EG-Kim/pytorch_example_01/blob/master/3_Logistic_Regression.ipynb\" target=\"_parent\"><img src=\"https://colab.research.google.com/assets/colab-badge.svg\" alt=\"Open In Colab\"/></a>"
      ]
    },
    {
      "cell_type": "markdown",
      "metadata": {
        "id": "BnamH-w8Rmy4"
      },
      "source": [
        "## Logistic Regression"
      ]
    },
    {
      "cell_type": "markdown",
      "metadata": {
        "id": "0wjP0j-fOi3L"
      },
      "source": [
        "로지스틱 회귀 Logistic Regression 는 집합의 각 원소의 확률을 계산하여 각 원소를 분류하는 데에 사용\n",
        "\n",
        "로지스틱 회귀 분석에서는 확률 임계값을 결정하여 특정 요소의 확률이 확률 임계값보다 높으면 해당 요소를 한 그룹으로 분류하거나 그 반대로 분류\n",
        "\n",
        "이미지 출처: https://www.analyticsvidhya.com/blog/2020/12/beginners-take-how-logistic-regression-is-related-to-linear-regression/\n",
        "\n",
        "![image.png](data:image/png;base64,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)"
      ]
    },
    {
      "cell_type": "markdown",
      "metadata": {
        "id": "n-1x5U4HOsM1"
      },
      "source": [
        "#### scikit-learn을 이용한 machine learning with MNIST"
      ]
    },
    {
      "cell_type": "markdown",
      "metadata": {
        "id": "JwIk4GJ1UkRv"
      },
      "source": [
        "Linear SVM 이용한 분류"
      ]
    },
    {
      "cell_type": "code",
      "metadata": {
        "id": "0vShrn4_Osrj"
      },
      "source": [
        "# 필요한 모듈 import\n",
        "from sklearn.datasets import fetch_openml\n",
        "from sklearn.model_selection import train_test_split\n",
        "from sklearn.metrics import accuracy_score\n",
        "from sklearn.svm import LinearSVC\n",
        "import matplotlib\n",
        "import matplotlib.pyplot as plt\n",
        "import numpy as np"
      ],
      "execution_count": 1,
      "outputs": []
    },
    {
      "cell_type": "code",
      "metadata": {
        "colab": {
          "base_uri": "https://localhost:8080/"
        },
        "id": "80dvTJWUR7Rp",
        "outputId": "19ee3418-e791-4ccc-920c-7f4e8c1a017c"
      },
      "source": [
        "#mnist data scikit-learn\n",
        "mnist = fetch_openml('mnist_784', version=1)\n",
        "print(list(mnist))\n",
        "X, y = mnist['data'], mnist['target']\n",
        "\n",
        "print(\"X shape\", X.shape); print(\"y shape\", y.shape)"
      ],
      "execution_count": 2,
      "outputs": [
        {
          "output_type": "stream",
          "name": "stdout",
          "text": [
            "['data', 'target', 'frame', 'feature_names', 'target_names', 'DESCR', 'details', 'categories', 'url']\n",
            "X shape (70000, 784)\n",
            "y shape (70000,)\n"
          ]
        }
      ]
    },
    {
      "cell_type": "code",
      "metadata": {
        "colab": {
          "base_uri": "https://localhost:8080/",
          "height": 266
        },
        "id": "63hnM9RNQEAA",
        "outputId": "3b06d4f6-239c-4da4-b3c1-764b97be7561"
      },
      "source": [
        "sample=X[0]\n",
        "sample = sample.reshape(28,28) # 28*28 = 784\n",
        "\n",
        "plt.imshow(sample, cmap=matplotlib.cm.binary, interpolation='nearest')\n",
        "plt.axis('off')\n",
        "plt.show()\n",
        "\n",
        "print(\"Answer=\", y[0])"
      ],
      "execution_count": 3,
      "outputs": [
        {
          "output_type": "display_data",
          "data": {
            "image/png": "[encoded data removed]",
            "text/plain": [
              "<Figure size 432x288 with 1 Axes>"
            ]
          },
          "metadata": {
            "needs_background": "light"
          }
        },
        {
          "output_type": "stream",
          "name": "stdout",
          "text": [
            "Answer= 5\n"
          ]
        }
      ]
    },
    {
      "cell_type": "code",
      "metadata": {
        "id": "mB_Bb38gQ213"
      },
      "source": [
        "X_train, X_test, y_train, y_test = train_test_split(X, y, stratify=y, test_size=0.3, random_state=42)"
      ],
      "execution_count": 4,
      "outputs": []
    },
    {
      "cell_type": "code",
      "metadata": {
        "colab": {
          "base_uri": "https://localhost:8080/"
        },
        "id": "fAXOYZzCRlMa",
        "outputId": "9ff17b04-1ae8-42a2-a4d7-f61a0f9aaaf0"
      },
      "source": [
        "ls = LinearSVC(random_state=42)\n",
        "ls.fit(X_train, y_train)\n",
        "\n",
        "y_pred = ls.predict(X_train)\n",
        "accuracy_score(y_train, y_pred)"
      ],
      "execution_count": 6,
      "outputs": [
        {
          "output_type": "stream",
          "name": "stderr",
          "text": [
            "/usr/local/lib/python3.7/dist-packages/sklearn/svm/_base.py:947: ConvergenceWarning: Liblinear failed to converge, increase the number of iterations.\n",
            "  \"the number of iterations.\", ConvergenceWarning)\n"
          ]
        },
        {
          "output_type": "execute_result",
          "data": {
            "text/plain": [
              "0.8953469387755102"
            ]
          },
          "metadata": {},
          "execution_count": 6
        }
      ]
    },
    {
      "cell_type": "code",
      "metadata": {
        "colab": {
          "base_uri": "https://localhost:8080/"
        },
        "id": "_eOyuQCzTHEA",
        "outputId": "874643d3-b28f-4699-dd37-84a908c276c0"
      },
      "source": [
        "y_pred = ls.predict(X_test)\n",
        "accuracy_score(y_test, y_pred)"
      ],
      "execution_count": 7,
      "outputs": [
        {
          "output_type": "execute_result",
          "data": {
            "text/plain": [
              "0.8765714285714286"
            ]
          },
          "metadata": {},
          "execution_count": 7
        }
      ]
    },
    {
      "cell_type": "markdown",
      "metadata": {
        "id": "Y_OywYBuUo1p"
      },
      "source": [
        "Random Forest 이용한 분류"
      ]
    },
    {
      "cell_type": "code",
      "metadata": {
        "id": "2_6uZ_gyT4Y0"
      },
      "source": [
        "from sklearn.ensemble import RandomForestClassifier\n",
        "\n",
        "RF = RandomForestClassifier()\n",
        "RF.fit(X_train, y_train)\n",
        "\n",
        "y_pred = ls.predict(X_train)\n",
        "accuracy_score(y_train, y_pred)"
      ],
      "execution_count": null,
      "outputs": []
    },
    {
      "cell_type": "code",
      "metadata": {
        "id": "nTMSigHdT482"
      },
      "source": [
        "y_pred = ls.predict(X_test)\n",
        "accuracy_score(y_test, y_pred)"
      ],
      "execution_count": null,
      "outputs": []
    },
    {
      "cell_type": "markdown",
      "metadata": {
        "id": "529NnX9qPL-I"
      },
      "source": [
        "## **Logistic Regression with MNIST dataset**"
      ]
    },
    {
      "cell_type": "markdown",
      "metadata": {
        "id": "abYZJUERR588"
      },
      "source": [
        "#### 모듈 불러오기"
      ]
    },
    {
      "cell_type": "code",
      "metadata": {
        "id": "j1tg7ErsR9lR"
      },
      "source": [
        "import torch\n",
        "import torch.nn as nn\n",
        "import torchvision\n",
        "import torchvision.transforms as transforms"
      ],
      "execution_count": 8,
      "outputs": []
    },
    {
      "cell_type": "markdown",
      "metadata": {
        "id": "2CloAI930E5T"
      },
      "source": [
        "#### 파라메터 설정"
      ]
    },
    {
      "cell_type": "code",
      "metadata": {
        "id": "79gySexS0GeB"
      },
      "source": [
        "# Hyper-parameters\n",
        "input_size = 784 # 이미지 크기가 28*28 = 784\n",
        "num_classes = 10 # 숫자 데이터 0-9 까지 10개의 class\n",
        "num_epochs = 5\n",
        "batch_size = 100\n",
        "learning_rate = 0.001"
      ],
      "execution_count": 9,
      "outputs": []
    },
    {
      "cell_type": "markdown",
      "metadata": {
        "id": "rpBPmFQ6R-jW"
      },
      "source": [
        "#### MNIST 데이터셋으로 데이터로더 구성"
      ]
    },
    {
      "cell_type": "code",
      "metadata": {
        "id": "28bP47GYSIcE",
        "colab": {
          "base_uri": "https://localhost:8080/",
          "height": 489,
          "referenced_widgets": [
            "490d3e0077d44743929a910f5e66dcff",
            "651af21ce38745aab2a443979f3a7eb2",
            "95ab416035174ae198144cab1ff35fc7",
            "051d260e9af4471e93661950e2cf7bbe",
            "f3f4fb0d883f467c9230b980aa4cc80b",
            "c751bf09856f42178a0ed332cb3edf84",
            "54d9b4c9318b46d496e980eace6a7315",
            "620d1192ec1e423ea0d045610891c8e2",
            "0026c7c3fbac4b15a7b2f5243f8336a9",
            "5fbe8d793ce74f7bab8d6c8038299bb9",
            "1a5c04412850479ea2d5a5ba024785cf"
          ]
        },
        "outputId": "4f0da45b-4e06-4ebb-d383-85f6b3aa7428"
      },
      "source": [
        "# 숫자 데이터 MNIST torchvision에서 제공해주는 것 download\n",
        "train_dataset = torchvision.datasets.MNIST(root='../../data', \n",
        "                                           train=True, \n",
        "                                           transform=transforms.ToTensor(),\n",
        "                                           download=True)\n",
        "\n",
        "test_dataset = torchvision.datasets.MNIST(root='../../data', \n",
        "                                          train=False, \n",
        "                                          transform=transforms.ToTensor())\n",
        "\n",
        "# Data loader (input pipeline). DataLoader라는 class에서 한번 훈련집합에서 뽑아올 때 100장씩.\n",
        "train_loader = torch.utils.data.DataLoader(dataset=train_dataset, \n",
        "                                           batch_size=batch_size, \n",
        "                                           shuffle=True) # 데이터 순서 섞기: True로 하면 뽑아올 때마다 배뀜. 배치마다 다른 순서로 훈련.\n",
        "\n",
        "test_loader = torch.utils.data.DataLoader(dataset=test_dataset, \n",
        "                                          batch_size=batch_size, \n",
        "                                          shuffle=False) # 테스트할 때는 학습을 진행하지 않기 때문에 순서를 섞지 않음(섞든 말든 의미 없음)"
      ],
      "execution_count": 10,
      "outputs": [
        {
          "output_type": "stream",
          "name": "stdout",
          "text": [
            "Downloading http://yann.lecun.com/exdb/mnist/train-images-idx3-ubyte.gz\n",
            "Downloading http://yann.lecun.com/exdb/mnist/train-images-idx3-ubyte.gz to ../../data/MNIST/raw/train-images-idx3-ubyte.gz\n"
          ]
        },
        {
          "output_type": "display_data",
          "data": {
            "application/vnd.jupyter.widget-view+json": {
              "model_id": "490d3e0077d44743929a910f5e66dcff",
              "version_minor": 0,
              "version_major": 2
            },
            "text/plain": [
              "  0%|          | 0/9912422 [00:00<?, ?it/s]"
            ]
          },
          "metadata": {}
        },
        {
          "output_type": "stream",
          "name": "stdout",
          "text": [
            "Extracting ../../data/MNIST/raw/train-images-idx3-ubyte.gz to ../../data/MNIST/raw\n",
            "\n",
            "Downloading http://yann.lecun.com/exdb/mnist/train-labels-idx1-ubyte.gz\n",
            "Downloading http://yann.lecun.com/exdb/mnist/train-labels-idx1-ubyte.gz to ../../data/MNIST/raw/train-labels-idx1-ubyte.gz\n"
          ]
        },
        {
          "output_type": "display_data",
          "data": {
            "application/vnd.jupyter.widget-view+json": {
              "model_id": "9b5b7ab2afba4855b53c386be7f72b53",
              "version_minor": 0,
              "version_major": 2
            },
            "text/plain": [
              "  0%|          | 0/28881 [00:00<?, ?it/s]"
            ]
          },
          "metadata": {}
        },
        {
          "output_type": "stream",
          "name": "stdout",
          "text": [
            "Extracting ../../data/MNIST/raw/train-labels-idx1-ubyte.gz to ../../data/MNIST/raw\n",
            "\n",
            "Downloading http://yann.lecun.com/exdb/mnist/t10k-images-idx3-ubyte.gz\n",
            "Downloading http://yann.lecun.com/exdb/mnist/t10k-images-idx3-ubyte.gz to ../../data/MNIST/raw/t10k-images-idx3-ubyte.gz\n"
          ]
        },
        {
          "output_type": "display_data",
          "data": {
            "application/vnd.jupyter.widget-view+json": {
              "model_id": "d7f2912185f5419b985c2a5140637f17",
              "version_minor": 0,
              "version_major": 2
            },
            "text/plain": [
              "  0%|          | 0/1648877 [00:00<?, ?it/s]"
            ]
          },
          "metadata": {}
        },
        {
          "output_type": "stream",
          "name": "stdout",
          "text": [
            "Extracting ../../data/MNIST/raw/t10k-images-idx3-ubyte.gz to ../../data/MNIST/raw\n",
            "\n",
            "Downloading http://yann.lecun.com/exdb/mnist/t10k-labels-idx1-ubyte.gz\n",
            "Downloading http://yann.lecun.com/exdb/mnist/t10k-labels-idx1-ubyte.gz to ../../data/MNIST/raw/t10k-labels-idx1-ubyte.gz\n"
          ]
        },
        {
          "output_type": "display_data",
          "data": {
            "application/vnd.jupyter.widget-view+json": {
              "model_id": "4d50538c6560430f8fef412b46c0307a",
              "version_minor": 0,
              "version_major": 2
            },
            "text/plain": [
              "  0%|          | 0/4542 [00:00<?, ?it/s]"
            ]
          },
          "metadata": {}
        },
        {
          "output_type": "stream",
          "name": "stdout",
          "text": [
            "Extracting ../../data/MNIST/raw/t10k-labels-idx1-ubyte.gz to ../../data/MNIST/raw\n",
            "\n"
          ]
        },
        {
          "output_type": "stream",
          "name": "stderr",
          "text": [
            "/usr/local/lib/python3.7/dist-packages/torchvision/datasets/mnist.py:498: UserWarning: The given NumPy array is not writeable, and PyTorch does not support non-writeable tensors. This means you can write to the underlying (supposedly non-writeable) NumPy array using the tensor. You may want to copy the array to protect its data or make it writeable before converting it to a tensor. This type of warning will be suppressed for the rest of this program. (Triggered internally at  /pytorch/torch/csrc/utils/tensor_numpy.cpp:180.)\n",
            "  return torch.from_numpy(parsed.astype(m[2], copy=False)).view(*s)\n"
          ]
        }
      ]
    },
    {
      "cell_type": "markdown",
      "metadata": {
        "id": "fwbBlXhcTK6W"
      },
      "source": [
        "#### 데이터 확인"
      ]
    },
    {
      "cell_type": "code",
      "metadata": {
        "id": "WPK_th3V8nkm",
        "colab": {
          "base_uri": "https://localhost:8080/"
        },
        "outputId": "d7c1b525-ee59-4d70-8c96-0fd63accf46a"
      },
      "source": [
        "train_dataset"
      ],
      "execution_count": 11,
      "outputs": [
        {
          "output_type": "execute_result",
          "data": {
            "text/plain": [
              "Dataset MNIST\n",
              "    Number of datapoints: 60000\n",
              "    Root location: ../../data\n",
              "    Split: Train\n",
              "    StandardTransform\n",
              "Transform: ToTensor()"
            ]
          },
          "metadata": {},
          "execution_count": 11
        }
      ]
    },
    {
      "cell_type": "code",
      "metadata": {
        "id": "sASWac05URNO",
        "colab": {
          "base_uri": "https://localhost:8080/"
        },
        "outputId": "5a2444d1-8531-4905-8548-37054fb7478c"
      },
      "source": [
        "# get some random training images\n",
        "dataiter = iter(train_loader)\n",
        "images, labels = dataiter.next() # train loader에서 데이터 한 세트 가져오기 -> data loader에서는 입력값, 정답을 한 세트로 취급\n",
        "print(images.shape) # 입력값의 모양. batch size(한번 뽑아낼 때 100장. 100장을 한번에 훈련), 1, 이미지 사이즈 28, 28"
      ],
      "execution_count": 12,
      "outputs": [
        {
          "output_type": "stream",
          "name": "stdout",
          "text": [
            "torch.Size([100, 1, 28, 28])\n"
          ]
        }
      ]
    },
    {
      "cell_type": "code",
      "metadata": {
        "id": "ee7Qri3bUd0z",
        "colab": {
          "base_uri": "https://localhost:8080/"
        },
        "outputId": "236fc4f9-10d0-4326-8a43-497526fba8ff"
      },
      "source": [
        "print(images[0])"
      ],
      "execution_count": 13,
      "outputs": [
        {
          "output_type": "stream",
          "name": "stdout",
          "text": [
            "tensor([[[0.0000, 0.0000, 0.0000, 0.0000, 0.0000, 0.0000, 0.0000, 0.0000,\n",
            "          0.0000, 0.0000, 0.0000, 0.0000, 0.0000, 0.0000, 0.0000, 0.0000,\n",
            "          0.0000, 0.0000, 0.0000, 0.0000, 0.0000, 0.0000, 0.0000, 0.0000,\n",
            "          0.0000, 0.0000, 0.0000, 0.0000],\n",
            "         [0.0000, 0.0000, 0.0000, 0.0000, 0.0000, 0.0000, 0.0000, 0.0000,\n",
            "          0.0000, 0.0000, 0.0000, 0.0000, 0.0000, 0.0000, 0.0000, 0.0000,\n",
            "          0.0000, 0.0000, 0.0000, 0.0000, 0.0000, 0.0000, 0.0000, 0.0000,\n",
            "          0.0000, 0.0000, 0.0000, 0.0000],\n",
            "         [0.0000, 0.0000, 0.0000, 0.0000, 0.0000, 0.0000, 0.0000, 0.0000,\n",
            "          0.0000, 0.0000, 0.0000, 0.0000, 0.0000, 0.0000, 0.0000, 0.0000,\n",
            "          0.0000, 0.0000, 0.0000, 0.0000, 0.0000, 0.0000, 0.0000, 0.0000,\n",
            "          0.0000, 0.0000, 0.0000, 0.0000],\n",
            "         [0.0000, 0.0000, 0.0000, 0.0000, 0.0000, 0.0000, 0.0000, 0.0000,\n",
            "          0.0000, 0.0000, 0.0000, 0.0000, 0.0000, 0.0000, 0.0000, 0.0000,\n",
            "          0.0000, 0.0000, 0.0000, 0.0000, 0.0000, 0.0000, 0.0000, 0.0000,\n",
            "          0.0000, 0.0000, 0.0000, 0.0000],\n",
            "         [0.0000, 0.0000, 0.0000, 0.0000, 0.0000, 0.0000, 0.0000, 0.0000,\n",
            "          0.0000, 0.0000, 0.0000, 0.0000, 0.0000, 0.0000, 0.0000, 0.0000,\n",
            "          0.0000, 0.0000, 0.0000, 0.0000, 0.0000, 0.0000, 0.0000, 0.0000,\n",
            "          0.0000, 0.0000, 0.0000, 0.0000],\n",
            "         [0.0000, 0.0000, 0.0000, 0.0000, 0.0000, 0.0000, 0.0000, 0.0000,\n",
            "          0.0000, 0.0000, 0.0000, 0.0000, 0.0000, 0.0000, 0.0000, 0.0000,\n",
            "          0.0000, 0.0431, 0.5882, 0.9922, 1.0000, 0.4235, 0.0000, 0.0000,\n",
            "          0.0000, 0.0000, 0.0000, 0.0000],\n",
            "         [0.0000, 0.0000, 0.0000, 0.0000, 0.0000, 0.0000, 0.0000, 0.0000,\n",
            "          0.0000, 0.0000, 0.0000, 0.0000, 0.0000, 0.0000, 0.0000, 0.0000,\n",
            "          0.0000, 0.1451, 0.9843, 0.9843, 0.9922, 0.7412, 0.0784, 0.0000,\n",
            "          0.0000, 0.0000, 0.0000, 0.0000],\n",
            "         [0.0000, 0.0000, 0.0000, 0.0000, 0.0000, 0.0000, 0.0000, 0.0000,\n",
            "          0.0000, 0.0000, 0.0000, 0.0000, 0.0000, 0.0000, 0.0000, 0.0000,\n",
            "          0.0000, 0.2471, 0.9843, 0.9843, 0.9922, 0.9843, 0.1373, 0.0000,\n",
            "          0.0000, 0.0000, 0.0000, 0.0000],\n",
            "         [0.0000, 0.0000, 0.0000, 0.0000, 0.0000, 0.0000, 0.0000, 0.0000,\n",
            "          0.0000, 0.0000, 0.0000, 0.0000, 0.0000, 0.0000, 0.0000, 0.0000,\n",
            "          0.2471, 0.9059, 0.9843, 0.9843, 0.9922, 0.9843, 0.1373, 0.0000,\n",
            "          0.0000, 0.0000, 0.0000, 0.0000],\n",
            "         [0.0000, 0.0000, 0.0000, 0.0000, 0.0000, 0.0000, 0.0000, 0.0000,\n",
            "          0.0000, 0.0000, 0.0000, 0.0000, 0.0000, 0.0000, 0.0000, 0.2078,\n",
            "          0.8667, 0.9843, 0.9843, 0.9843, 0.9922, 0.5765, 0.0392, 0.0000,\n",
            "          0.0000, 0.0000, 0.0000, 0.0000],\n",
            "         [0.0000, 0.0000, 0.0000, 0.0000, 0.0000, 0.0000, 0.0000, 0.0000,\n",
            "          0.0000, 0.0000, 0.0000, 0.0000, 0.0000, 0.0000, 0.0000, 0.4902,\n",
            "          0.9922, 0.9922, 0.9922, 0.9922, 0.0000, 0.0000, 0.0000, 0.0000,\n",
            "          0.0000, 0.0000, 0.0000, 0.0000],\n",
            "         [0.0000, 0.0000, 0.0000, 0.0000, 0.0000, 0.0000, 0.0000, 0.0000,\n",
            "          0.0000, 0.0000, 0.0000, 0.0000, 0.0000, 0.0000, 0.4118, 0.9922,\n",
            "          0.9843, 0.9843, 0.9843, 0.9843, 0.0000, 0.0000, 0.0000, 0.0000,\n",
            "          0.0000, 0.0000, 0.0000, 0.0000],\n",
            "         [0.0000, 0.0000, 0.0000, 0.0000, 0.0000, 0.0000, 0.0000, 0.0000,\n",
            "          0.0000, 0.0000, 0.0000, 0.0000, 0.0000, 0.3686, 0.9451, 0.9922,\n",
            "          0.9843, 0.9647, 0.5373, 0.1373, 0.0000, 0.0000, 0.0000, 0.0000,\n",
            "          0.0000, 0.0000, 0.0000, 0.0000],\n",
            "         [0.0000, 0.0000, 0.0000, 0.0000, 0.0000, 0.0000, 0.0000, 0.0000,\n",
            "          0.0000, 0.0000, 0.0000, 0.0000, 0.0627, 0.6667, 0.9843, 0.9922,\n",
            "          0.9843, 0.8431, 0.0000, 0.0000, 0.0000, 0.0000, 0.0000, 0.0000,\n",
            "          0.0000, 0.0000, 0.0000, 0.0000],\n",
            "         [0.0000, 0.0000, 0.0000, 0.0000, 0.0000, 0.0000, 0.0000, 0.0000,\n",
            "          0.0000, 0.0000, 0.0000, 0.0000, 0.1451, 0.9843, 0.9843, 0.9922,\n",
            "          0.9843, 0.3373, 0.0000, 0.0000, 0.0000, 0.0000, 0.0000, 0.0000,\n",
            "          0.0000, 0.0000, 0.0000, 0.0000],\n",
            "         [0.0000, 0.0000, 0.0000, 0.0000, 0.0000, 0.0000, 0.0000, 0.0000,\n",
            "          0.0000, 0.0000, 0.0000, 0.0000, 0.8549, 0.9922, 0.9922, 1.0000,\n",
            "          0.8275, 0.0980, 0.0000, 0.0000, 0.0000, 0.0000, 0.0000, 0.0000,\n",
            "          0.0000, 0.0000, 0.0000, 0.0000],\n",
            "         [0.0000, 0.0000, 0.0000, 0.0000, 0.0000, 0.0000, 0.0000, 0.0000,\n",
            "          0.0000, 0.0000, 0.0000, 0.3294, 0.9255, 0.9843, 0.9843, 0.8275,\n",
            "          0.1804, 0.0000, 0.0000, 0.0000, 0.0000, 0.0000, 0.0000, 0.0000,\n",
            "          0.0000, 0.0000, 0.0000, 0.0000],\n",
            "         [0.0000, 0.0000, 0.0000, 0.0000, 0.0000, 0.0000, 0.0000, 0.0000,\n",
            "          0.0000, 0.0000, 0.3490, 0.9255, 0.9843, 0.9843, 0.9843, 0.7059,\n",
            "          0.0000, 0.0000, 0.0000, 0.0000, 0.0000, 0.0000, 0.0000, 0.0000,\n",
            "          0.0000, 0.0000, 0.0000, 0.0000],\n",
            "         [0.0000, 0.0000, 0.0000, 0.0000, 0.0000, 0.0000, 0.0000, 0.0000,\n",
            "          0.0000, 0.3098, 0.9922, 0.9843, 0.9843, 0.9843, 0.6784, 0.4039,\n",
            "          0.0000, 0.0000, 0.0000, 0.0000, 0.0000, 0.0000, 0.0000, 0.0000,\n",
            "          0.0000, 0.0000, 0.0000, 0.0000],\n",
            "         [0.0000, 0.0000, 0.0000, 0.0000, 0.0000, 0.0000, 0.0000, 0.0000,\n",
            "          0.0000, 0.7059, 0.9922, 0.9843, 0.9843, 0.6784, 0.0784, 0.0000,\n",
            "          0.0000, 0.0000, 0.0000, 0.0000, 0.0000, 0.0000, 0.0000, 0.0000,\n",
            "          0.0000, 0.0000, 0.0000, 0.0000],\n",
            "         [0.0000, 0.0000, 0.0000, 0.0000, 0.0000, 0.0000, 0.0000, 0.0000,\n",
            "          0.4314, 0.9922, 1.0000, 0.9922, 0.7451, 0.4039, 0.0000, 0.0000,\n",
            "          0.0000, 0.0000, 0.0000, 0.0000, 0.0000, 0.0000, 0.0000, 0.0000,\n",
            "          0.0000, 0.0000, 0.0000, 0.0000],\n",
            "         [0.0000, 0.0000, 0.0000, 0.0000, 0.0000, 0.0000, 0.0000, 0.0824,\n",
            "          0.7451, 0.9843, 0.9922, 0.9843, 0.1373, 0.0000, 0.0000, 0.0000,\n",
            "          0.0000, 0.0000, 0.0000, 0.0000, 0.0000, 0.0000, 0.0000, 0.0000,\n",
            "          0.0000, 0.0000, 0.0000, 0.0000],\n",
            "         [0.0000, 0.0000, 0.0000, 0.0000, 0.0000, 0.0000, 0.0000, 0.7529,\n",
            "          0.9843, 0.9843, 0.9922, 0.4980, 0.0196, 0.0000, 0.0000, 0.0000,\n",
            "          0.0000, 0.0000, 0.0000, 0.0000, 0.0000, 0.0000, 0.0000, 0.0000,\n",
            "          0.0000, 0.0000, 0.0000, 0.0000],\n",
            "         [0.0000, 0.0000, 0.0000, 0.0000, 0.0000, 0.0000, 0.0000, 0.8510,\n",
            "          0.9843, 0.9843, 0.8667, 0.2392, 0.0000, 0.0000, 0.0000, 0.0000,\n",
            "          0.0000, 0.0000, 0.0000, 0.0000, 0.0000, 0.0000, 0.0000, 0.0000,\n",
            "          0.0000, 0.0000, 0.0000, 0.0000],\n",
            "         [0.0000, 0.0000, 0.0000, 0.0000, 0.0000, 0.0000, 0.0000, 0.8510,\n",
            "          0.9843, 0.9843, 0.2000, 0.0000, 0.0000, 0.0000, 0.0000, 0.0000,\n",
            "          0.0000, 0.0000, 0.0000, 0.0000, 0.0000, 0.0000, 0.0000, 0.0000,\n",
            "          0.0000, 0.0000, 0.0000, 0.0000],\n",
            "         [0.0000, 0.0000, 0.0000, 0.0000, 0.0000, 0.0000, 0.0000, 0.0000,\n",
            "          0.0000, 0.0000, 0.0000, 0.0000, 0.0000, 0.0000, 0.0000, 0.0000,\n",
            "          0.0000, 0.0000, 0.0000, 0.0000, 0.0000, 0.0000, 0.0000, 0.0000,\n",
            "          0.0000, 0.0000, 0.0000, 0.0000],\n",
            "         [0.0000, 0.0000, 0.0000, 0.0000, 0.0000, 0.0000, 0.0000, 0.0000,\n",
            "          0.0000, 0.0000, 0.0000, 0.0000, 0.0000, 0.0000, 0.0000, 0.0000,\n",
            "          0.0000, 0.0000, 0.0000, 0.0000, 0.0000, 0.0000, 0.0000, 0.0000,\n",
            "          0.0000, 0.0000, 0.0000, 0.0000],\n",
            "         [0.0000, 0.0000, 0.0000, 0.0000, 0.0000, 0.0000, 0.0000, 0.0000,\n",
            "          0.0000, 0.0000, 0.0000, 0.0000, 0.0000, 0.0000, 0.0000, 0.0000,\n",
            "          0.0000, 0.0000, 0.0000, 0.0000, 0.0000, 0.0000, 0.0000, 0.0000,\n",
            "          0.0000, 0.0000, 0.0000, 0.0000]]])\n"
          ]
        }
      ]
    },
    {
      "cell_type": "code",
      "metadata": {
        "id": "O4LFMinTTLw9",
        "colab": {
          "base_uri": "https://localhost:8080/",
          "height": 625
        },
        "outputId": "c0317034-07cb-42c8-d013-8ece37edcaef"
      },
      "source": [
        "# functions to show an image. 이미지를 보여주는 함수를 plt 라이브러리 이용하여 만들기\n",
        "def imshow(img):\n",
        "    npimg = img.numpy()\n",
        "    plt.imshow(np.transpose(npimg, (1, 2, 0))) # 이미지 변환\n",
        "    plt.show()\n",
        "\n",
        "\n",
        "# get some random training images\n",
        "dataiter = iter(train_loader)\n",
        "images, labels = dataiter.next()\n",
        "\n",
        "# show images. 전체 100장의 배치에 대해 이미지 출력\n",
        "imshow(torchvision.utils.make_grid(images))\n",
        "# print labels\n",
        "print(labels)\n",
        "\n",
        "imshow(torchvision.utils.make_grid(images[0])) # 전체 100장의 배치 가운데 처음 한 장\n",
        "print(labels[0])"
      ],
      "execution_count": 18,
      "outputs": [
        {
          "output_type": "display_data",
          "data": {
            "image/png": "[encoded data removed]",
            "text/plain": [
              "<Figure size 432x288 with 1 Axes>"
            ]
          },
          "metadata": {
            "needs_background": "light"
          }
        },
        {
          "output_type": "stream",
          "name": "stdout",
          "text": [
            "tensor([3, 3, 3, 3, 2, 2, 5, 8, 1, 1, 5, 8, 5, 1, 6, 1, 7, 5, 1, 9, 6, 4, 0, 9,\n",
            "        8, 8, 4, 2, 5, 6, 3, 2, 1, 5, 2, 9, 2, 4, 2, 9, 4, 3, 4, 3, 8, 8, 7, 3,\n",
            "        8, 2, 3, 7, 5, 9, 1, 6, 7, 7, 4, 6, 1, 3, 0, 8, 8, 7, 5, 5, 9, 0, 9, 3,\n",
            "        4, 3, 2, 7, 7, 7, 4, 4, 7, 4, 8, 3, 1, 9, 9, 3, 9, 5, 6, 1, 7, 3, 2, 2,\n",
            "        3, 3, 4, 0])\n"
          ]
        },
        {
          "output_type": "display_data",
          "data": {
            "image/png": "[encoded data removed]",
            "text/plain": [
              "<Figure size 432x288 with 1 Axes>"
            ]
          },
          "metadata": {
            "needs_background": "light"
          }
        },
        {
          "output_type": "stream",
          "name": "stdout",
          "text": [
            "tensor(3)\n"
          ]
        }
      ]
    },
    {
      "cell_type": "markdown",
      "metadata": {
        "id": "_1NjhwmhSyS4"
      },
      "source": [
        "#### Logistic regression model\n",
        "\n",
        "torch.nn.Linear 클래스 사용. 전체가 연결된 완전 연결 층\n",
        "![FCN 단층.jpg](data:image/jpeg;base64,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)"
      ]
    },
    {
      "cell_type": "code",
      "metadata": {
        "id": "UuK0Jdt0zYJr"
      },
      "source": [
        "model = nn.Linear(input_size, num_classes)"
      ],
      "execution_count": 20,
      "outputs": []
    },
    {
      "cell_type": "markdown",
      "metadata": {
        "id": "mwQDxGfMzZzX"
      },
      "source": [
        "#### Loss and optimizer\n"
      ]
    },
    {
      "cell_type": "code",
      "metadata": {
        "id": "dQzh9LEYzdh-"
      },
      "source": [
        "criterion = nn.CrossEntropyLoss()  \n",
        "optimizer = torch.optim.SGD(model.parameters(), lr=learning_rate) "
      ],
      "execution_count": 21,
      "outputs": []
    },
    {
      "cell_type": "markdown",
      "metadata": {
        "id": "bWYYjBDTzgnt"
      },
      "source": [
        "#### Train the model"
      ]
    },
    {
      "cell_type": "code",
      "metadata": {
        "id": "ZgBu3e5Szk5U",
        "colab": {
          "base_uri": "https://localhost:8080/"
        },
        "outputId": "65ad8b01-23f6-4d54-b478-746e6378cf50"
      },
      "source": [
        "total_step = len(train_loader)\n",
        "loss_values = []\n",
        "\n",
        "for epoch in range(num_epochs):\n",
        "    for i, (images, labels) in enumerate(train_loader): # train loader에서는 image와 label이 세트. enumerate를 이용하면 index의 원소와 collection의 원소를 같이 반환\n",
        "        # Reshape images to (batch_size, input_size)\n",
        "        images = images.reshape(-1, 28*28) # 1자로 펴서 100, 784로. -1이면 그 부분은 알아서 변환\n",
        "        \n",
        "        # Forward pass\n",
        "        outputs = model(images)\n",
        "        loss = criterion(outputs, labels)\n",
        "        \n",
        "        # Backward and optimize\n",
        "        optimizer.zero_grad() # tensor의 미분값 0으로 초기화\n",
        "        loss.backward() # 미분\n",
        "        optimizer.step() # 가중치 갱신\n",
        "        \n",
        "        loss_values.append(loss.item()) # loss 값을 loss_values의 배열에 추가. 한 배치 100장에 대한 loss.\n",
        "        \n",
        "        if (i+1) % 100 == 0:\n",
        "            print ('Epoch [{}/{}], Step [{}/{}], Loss: {:.4f}' \n",
        "                   .format(epoch+1, num_epochs, i+1, total_step, loss.item()))\n"
      ],
      "execution_count": 22,
      "outputs": [
        {
          "output_type": "stream",
          "name": "stdout",
          "text": [
            "Epoch [1/5], Step [100/600], Loss: 2.2430\n",
            "Epoch [1/5], Step [200/600], Loss: 2.1129\n",
            "Epoch [1/5], Step [300/600], Loss: 2.0143\n",
            "Epoch [1/5], Step [400/600], Loss: 1.9214\n",
            "Epoch [1/5], Step [500/600], Loss: 1.8408\n",
            "Epoch [1/5], Step [600/600], Loss: 1.8085\n",
            "Epoch [2/5], Step [100/600], Loss: 1.7782\n",
            "Epoch [2/5], Step [200/600], Loss: 1.6749\n",
            "Epoch [2/5], Step [300/600], Loss: 1.6137\n",
            "Epoch [2/5], Step [400/600], Loss: 1.6154\n",
            "Epoch [2/5], Step [500/600], Loss: 1.5804\n",
            "Epoch [2/5], Step [600/600], Loss: 1.5106\n",
            "Epoch [3/5], Step [100/600], Loss: 1.4431\n",
            "Epoch [3/5], Step [200/600], Loss: 1.3309\n",
            "Epoch [3/5], Step [300/600], Loss: 1.3773\n",
            "Epoch [3/5], Step [400/600], Loss: 1.3011\n",
            "Epoch [3/5], Step [500/600], Loss: 1.3255\n",
            "Epoch [3/5], Step [600/600], Loss: 1.2407\n",
            "Epoch [4/5], Step [100/600], Loss: 1.2908\n",
            "Epoch [4/5], Step [200/600], Loss: 1.1843\n",
            "Epoch [4/5], Step [300/600], Loss: 1.1578\n",
            "Epoch [4/5], Step [400/600], Loss: 1.1098\n",
            "Epoch [4/5], Step [500/600], Loss: 1.0507\n",
            "Epoch [4/5], Step [600/600], Loss: 1.1492\n",
            "Epoch [5/5], Step [100/600], Loss: 1.0060\n",
            "Epoch [5/5], Step [200/600], Loss: 1.1018\n",
            "Epoch [5/5], Step [300/600], Loss: 1.0498\n",
            "Epoch [5/5], Step [400/600], Loss: 0.9525\n",
            "Epoch [5/5], Step [500/600], Loss: 0.9408\n",
            "Epoch [5/5], Step [600/600], Loss: 1.0382\n"
          ]
        }
      ]
    },
    {
      "cell_type": "code",
      "metadata": {
        "id": "ny_neipl1tuc",
        "colab": {
          "base_uri": "https://localhost:8080/",
          "height": 308
        },
        "outputId": "1c41c275-c58f-4752-931c-6b89def79026"
      },
      "source": [
        "#학습 그래프 출력\n",
        "\n",
        "fig, loss_ax = plt.subplots()\n",
        "\n",
        "loss_ax.plot(loss_values, 'b', label='loss',  fillstyle='none')\n",
        "\n",
        "loss_ax.set_xlabel('step')\n",
        "loss_ax.set_ylabel('Loss')\n",
        "fig.suptitle('Loss of Logistic Regression')\n",
        "\n",
        "loss_ax.legend(loc='lower right')\n",
        "\n",
        "\n",
        "plt.show()"
      ],
      "execution_count": 23,
      "outputs": [
        {
          "output_type": "display_data",
          "data": {
            "image/png": "[encoded data removed]",
            "text/plain": [
              "<Figure size 432x288 with 1 Axes>"
            ]
          },
          "metadata": {
            "needs_background": "light"
          }
        }
      ]
    },
    {
      "cell_type": "markdown",
      "metadata": {
        "id": "z1YiSwOAzmKX"
      },
      "source": [
        "#### Test the model"
      ]
    },
    {
      "cell_type": "code",
      "metadata": {
        "id": "LmEFfaGK61hb"
      },
      "source": [
        "# 가중치 갱신 필요 X. 미분 계산 X. 모델에 넣어서 결과만 확인.\n",
        "# In test phase, we don't need to compute gradients (for memory efficiency). 미분 구하지 않게.\n",
        "with torch.no_grad():\n",
        "    # get some random testing images\n",
        "    dataiter = iter(test_loader)\n",
        "    images, labels = dataiter.next() # 100장 꺼내오기\n",
        "\n",
        "    # show images\n",
        "    imshow(torchvision.utils.make_grid(images))\n",
        "    \n",
        "    images = images.reshape(-1, 28*28)\n",
        "    outputs = model(images) # label 0-9까지. 가장 높은 점수를 가진 예측값\n",
        "    \n",
        "    _, predicted = torch.max(outputs.data, 1)\n",
        "    \n",
        "    # print labels\n",
        "    print(\"ground truth: \", labels)\n",
        "    print(\"predicted: \", predicted)"
      ],
      "execution_count": null,
      "outputs": []
    },
    {
      "cell_type": "code",
      "metadata": {
        "id": "qAeVg4CozpH7"
      },
      "source": [
        "# In test phase, we don't need to compute gradients (for memory efficiency)\n",
        "with torch.no_grad():\n",
        "    correct = 0\n",
        "    total = 0\n",
        "    for images, labels in test_loader:\n",
        "        images = images.reshape(-1, 28*28)\n",
        "        outputs = model(images)\n",
        "        _, predicted = torch.max(outputs.data, 1)\n",
        "        total += labels.size(0)\n",
        "        correct += (predicted == labels).sum() # test image 10000장에 대한 비교\n",
        "\n",
        "    print('Accuracy of the model on the 10000 test images: {} %'.format(100 * correct.item() / total))"
      ],
      "execution_count": null,
      "outputs": []
    }
  ]
}