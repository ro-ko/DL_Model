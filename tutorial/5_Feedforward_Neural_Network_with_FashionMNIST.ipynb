{
  "nbformat": 4,
  "nbformat_minor": 0,
  "metadata": {
    "colab": {
      "name": "5. Feedforward Neural Network with FashionMNIST의 사본의 사본",
      "provenance": [],
      "collapsed_sections": [],
      "include_colab_link": true
    },
    "kernelspec": {
      "name": "python3",
      "display_name": "Python 3"
    },
    "accelerator": "GPU",
    "widgets": {
      "application/vnd.jupyter.widget-state+json": {
        "9e8af563ca5a4f798c8f22b23ec173b1": {
          "model_module": "@jupyter-widgets/controls",
          "model_name": "HBoxModel",
          "model_module_version": "1.5.0",
          "state": {
            "_view_name": "HBoxView",
            "_dom_classes": [],
            "_model_name": "HBoxModel",
            "_view_module": "@jupyter-widgets/controls",
            "_model_module_version": "1.5.0",
            "_view_count": null,
            "_view_module_version": "1.5.0",
            "box_style": "",
            "layout": "IPY_MODEL_32b8e1cec2c745c2bbf0008e208ecc80",
            "_model_module": "@jupyter-widgets/controls",
            "children": [
              "IPY_MODEL_1ebe908ebc8b400baf763197bbb03c75",
              "IPY_MODEL_196caf5ee25e404582340034735df922",
              "IPY_MODEL_09fcaefd9f5442698036bdfbf45a5fe9"
            ]
          }
        },
        "32b8e1cec2c745c2bbf0008e208ecc80": {
          "model_module": "@jupyter-widgets/base",
          "model_name": "LayoutModel",
          "model_module_version": "1.2.0",
          "state": {
            "_view_name": "LayoutView",
            "grid_template_rows": null,
            "right": null,
            "justify_content": null,
            "_view_module": "@jupyter-widgets/base",
            "overflow": null,
            "_model_module_version": "1.2.0",
            "_view_count": null,
            "flex_flow": null,
            "width": null,
            "min_width": null,
            "border": null,
            "align_items": null,
            "bottom": null,
            "_model_module": "@jupyter-widgets/base",
            "top": null,
            "grid_column": null,
            "overflow_y": null,
            "overflow_x": null,
            "grid_auto_flow": null,
            "grid_area": null,
            "grid_template_columns": null,
            "flex": null,
            "_model_name": "LayoutModel",
            "justify_items": null,
            "grid_row": null,
            "max_height": null,
            "align_content": null,
            "visibility": null,
            "align_self": null,
            "height": null,
            "min_height": null,
            "padding": null,
            "grid_auto_rows": null,
            "grid_gap": null,
            "max_width": null,
            "order": null,
            "_view_module_version": "1.2.0",
            "grid_template_areas": null,
            "object_position": null,
            "object_fit": null,
            "grid_auto_columns": null,
            "margin": null,
            "display": null,
            "left": null
          }
        },
        "1ebe908ebc8b400baf763197bbb03c75": {
          "model_module": "@jupyter-widgets/controls",
          "model_name": "HTMLModel",
          "model_module_version": "1.5.0",
          "state": {
            "_view_name": "HTMLView",
            "style": "IPY_MODEL_d80510e4d44a45ec862e2299c84f2e06",
            "_dom_classes": [],
            "description": "",
            "_model_name": "HTMLModel",
            "placeholder": "​",
            "_view_module": "@jupyter-widgets/controls",
            "_model_module_version": "1.5.0",
            "value": "",
            "_view_count": null,
            "_view_module_version": "1.5.0",
            "description_tooltip": null,
            "_model_module": "@jupyter-widgets/controls",
            "layout": "IPY_MODEL_59341267ad864850b6a9a927f0aeabca"
          }
        },
        "196caf5ee25e404582340034735df922": {
          "model_module": "@jupyter-widgets/controls",
          "model_name": "FloatProgressModel",
          "model_module_version": "1.5.0",
          "state": {
            "_view_name": "ProgressView",
            "style": "IPY_MODEL_4dd543f824ca4a3aaf23867e1c495bd6",
            "_dom_classes": [],
            "description": "",
            "_model_name": "FloatProgressModel",
            "bar_style": "success",
            "max": 26421880,
            "_view_module": "@jupyter-widgets/controls",
            "_model_module_version": "1.5.0",
            "value": 26421880,
            "_view_count": null,
            "_view_module_version": "1.5.0",
            "orientation": "horizontal",
            "min": 0,
            "description_tooltip": null,
            "_model_module": "@jupyter-widgets/controls",
            "layout": "IPY_MODEL_884842c312c341ac9f3e9e06c6a3e54f"
          }
        },
        "09fcaefd9f5442698036bdfbf45a5fe9": {
          "model_module": "@jupyter-widgets/controls",
          "model_name": "HTMLModel",
          "model_module_version": "1.5.0",
          "state": {
            "_view_name": "HTMLView",
            "style": "IPY_MODEL_e2b2df51e89f41d6acff09bce6648357",
            "_dom_classes": [],
            "description": "",
            "_model_name": "HTMLModel",
            "placeholder": "​",
            "_view_module": "@jupyter-widgets/controls",
            "_model_module_version": "1.5.0",
            "value": " 26422272/? [00:01&lt;00:00, 21853199.58it/s]",
            "_view_count": null,
            "_view_module_version": "1.5.0",
            "description_tooltip": null,
            "_model_module": "@jupyter-widgets/controls",
            "layout": "IPY_MODEL_1188e50935ce4924a650d22717858b1f"
          }
        },
        "d80510e4d44a45ec862e2299c84f2e06": {
          "model_module": "@jupyter-widgets/controls",
          "model_name": "DescriptionStyleModel",
          "model_module_version": "1.5.0",
          "state": {
            "_view_name": "StyleView",
            "_model_name": "DescriptionStyleModel",
            "description_width": "",
            "_view_module": "@jupyter-widgets/base",
            "_model_module_version": "1.5.0",
            "_view_count": null,
            "_view_module_version": "1.2.0",
            "_model_module": "@jupyter-widgets/controls"
          }
        },
        "59341267ad864850b6a9a927f0aeabca": {
          "model_module": "@jupyter-widgets/base",
          "model_name": "LayoutModel",
          "model_module_version": "1.2.0",
          "state": {
            "_view_name": "LayoutView",
            "grid_template_rows": null,
            "right": null,
            "justify_content": null,
            "_view_module": "@jupyter-widgets/base",
            "overflow": null,
            "_model_module_version": "1.2.0",
            "_view_count": null,
            "flex_flow": null,
            "width": null,
            "min_width": null,
            "border": null,
            "align_items": null,
            "bottom": null,
            "_model_module": "@jupyter-widgets/base",
            "top": null,
            "grid_column": null,
            "overflow_y": null,
            "overflow_x": null,
            "grid_auto_flow": null,
            "grid_area": null,
            "grid_template_columns": null,
            "flex": null,
            "_model_name": "LayoutModel",
            "justify_items": null,
            "grid_row": null,
            "max_height": null,
            "align_content": null,
            "visibility": null,
            "align_self": null,
            "height": null,
            "min_height": null,
            "padding": null,
            "grid_auto_rows": null,
            "grid_gap": null,
            "max_width": null,
            "order": null,
            "_view_module_version": "1.2.0",
            "grid_template_areas": null,
            "object_position": null,
            "object_fit": null,
            "grid_auto_columns": null,
            "margin": null,
            "display": null,
            "left": null
          }
        },
        "4dd543f824ca4a3aaf23867e1c495bd6": {
          "model_module": "@jupyter-widgets/controls",
          "model_name": "ProgressStyleModel",
          "model_module_version": "1.5.0",
          "state": {
            "_view_name": "StyleView",
            "_model_name": "ProgressStyleModel",
            "description_width": "",
            "_view_module": "@jupyter-widgets/base",
            "_model_module_version": "1.5.0",
            "_view_count": null,
            "_view_module_version": "1.2.0",
            "bar_color": null,
            "_model_module": "@jupyter-widgets/controls"
          }
        },
        "884842c312c341ac9f3e9e06c6a3e54f": {
          "model_module": "@jupyter-widgets/base",
          "model_name": "LayoutModel",
          "model_module_version": "1.2.0",
          "state": {
            "_view_name": "LayoutView",
            "grid_template_rows": null,
            "right": null,
            "justify_content": null,
            "_view_module": "@jupyter-widgets/base",
            "overflow": null,
            "_model_module_version": "1.2.0",
            "_view_count": null,
            "flex_flow": null,
            "width": null,
            "min_width": null,
            "border": null,
            "align_items": null,
            "bottom": null,
            "_model_module": "@jupyter-widgets/base",
            "top": null,
            "grid_column": null,
            "overflow_y": null,
            "overflow_x": null,
            "grid_auto_flow": null,
            "grid_area": null,
            "grid_template_columns": null,
            "flex": null,
            "_model_name": "LayoutModel",
            "justify_items": null,
            "grid_row": null,
            "max_height": null,
            "align_content": null,
            "visibility": null,
            "align_self": null,
            "height": null,
            "min_height": null,
            "padding": null,
            "grid_auto_rows": null,
            "grid_gap": null,
            "max_width": null,
            "order": null,
            "_view_module_version": "1.2.0",
            "grid_template_areas": null,
            "object_position": null,
            "object_fit": null,
            "grid_auto_columns": null,
            "margin": null,
            "display": null,
            "left": null
          }
        },
        "e2b2df51e89f41d6acff09bce6648357": {
          "model_module": "@jupyter-widgets/controls",
          "model_name": "DescriptionStyleModel",
          "model_module_version": "1.5.0",
          "state": {
            "_view_name": "StyleView",
            "_model_name": "DescriptionStyleModel",
            "description_width": "",
            "_view_module": "@jupyter-widgets/base",
            "_model_module_version": "1.5.0",
            "_view_count": null,
            "_view_module_version": "1.2.0",
            "_model_module": "@jupyter-widgets/controls"
          }
        },
        "1188e50935ce4924a650d22717858b1f": {
          "model_module": "@jupyter-widgets/base",
          "model_name": "LayoutModel",
          "model_module_version": "1.2.0",
          "state": {
            "_view_name": "LayoutView",
            "grid_template_rows": null,
            "right": null,
            "justify_content": null,
            "_view_module": "@jupyter-widgets/base",
            "overflow": null,
            "_model_module_version": "1.2.0",
            "_view_count": null,
            "flex_flow": null,
            "width": null,
            "min_width": null,
            "border": null,
            "align_items": null,
            "bottom": null,
            "_model_module": "@jupyter-widgets/base",
            "top": null,
            "grid_column": null,
            "overflow_y": null,
            "overflow_x": null,
            "grid_auto_flow": null,
            "grid_area": null,
            "grid_template_columns": null,
            "flex": null,
            "_model_name": "LayoutModel",
            "justify_items": null,
            "grid_row": null,
            "max_height": null,
            "align_content": null,
            "visibility": null,
            "align_self": null,
            "height": null,
            "min_height": null,
            "padding": null,
            "grid_auto_rows": null,
            "grid_gap": null,
            "max_width": null,
            "order": null,
            "_view_module_version": "1.2.0",
            "grid_template_areas": null,
            "object_position": null,
            "object_fit": null,
            "grid_auto_columns": null,
            "margin": null,
            "display": null,
            "left": null
          }
        },
        "828fd1afe4ae4a4e96310f7ca6350e3c": {
          "model_module": "@jupyter-widgets/controls",
          "model_name": "HBoxModel",
          "model_module_version": "1.5.0",
          "state": {
            "_view_name": "HBoxView",
            "_dom_classes": [],
            "_model_name": "HBoxModel",
            "_view_module": "@jupyter-widgets/controls",
            "_model_module_version": "1.5.0",
            "_view_count": null,
            "_view_module_version": "1.5.0",
            "box_style": "",
            "layout": "IPY_MODEL_4fe42769a157449bb13d56696c938cbf",
            "_model_module": "@jupyter-widgets/controls",
            "children": [
              "IPY_MODEL_5d0beeb2c0b14b97b01d9dfbf135d0ab",
              "IPY_MODEL_f74fe387648f44c8aaff7d256ab8722a",
              "IPY_MODEL_2cf26e31422646f498cd240d62c8ccf4"
            ]
          }
        },
        "4fe42769a157449bb13d56696c938cbf": {
          "model_module": "@jupyter-widgets/base",
          "model_name": "LayoutModel",
          "model_module_version": "1.2.0",
          "state": {
            "_view_name": "LayoutView",
            "grid_template_rows": null,
            "right": null,
            "justify_content": null,
            "_view_module": "@jupyter-widgets/base",
            "overflow": null,
            "_model_module_version": "1.2.0",
            "_view_count": null,
            "flex_flow": null,
            "width": null,
            "min_width": null,
            "border": null,
            "align_items": null,
            "bottom": null,
            "_model_module": "@jupyter-widgets/base",
            "top": null,
            "grid_column": null,
            "overflow_y": null,
            "overflow_x": null,
            "grid_auto_flow": null,
            "grid_area": null,
            "grid_template_columns": null,
            "flex": null,
            "_model_name": "LayoutModel",
            "justify_items": null,
            "grid_row": null,
            "max_height": null,
            "align_content": null,
            "visibility": null,
            "align_self": null,
            "height": null,
            "min_height": null,
            "padding": null,
            "grid_auto_rows": null,
            "grid_gap": null,
            "max_width": null,
            "order": null,
            "_view_module_version": "1.2.0",
            "grid_template_areas": null,
            "object_position": null,
            "object_fit": null,
            "grid_auto_columns": null,
            "margin": null,
            "display": null,
            "left": null
          }
        },
        "5d0beeb2c0b14b97b01d9dfbf135d0ab": {
          "model_module": "@jupyter-widgets/controls",
          "model_name": "HTMLModel",
          "model_module_version": "1.5.0",
          "state": {
            "_view_name": "HTMLView",
            "style": "IPY_MODEL_3e034e71be284075abbd552940ad0eb6",
            "_dom_classes": [],
            "description": "",
            "_model_name": "HTMLModel",
            "placeholder": "​",
            "_view_module": "@jupyter-widgets/controls",
            "_model_module_version": "1.5.0",
            "value": "",
            "_view_count": null,
            "_view_module_version": "1.5.0",
            "description_tooltip": null,
            "_model_module": "@jupyter-widgets/controls",
            "layout": "IPY_MODEL_5bf7f47d6f164260aba3711cac55d69f"
          }
        },
        "f74fe387648f44c8aaff7d256ab8722a": {
          "model_module": "@jupyter-widgets/controls",
          "model_name": "FloatProgressModel",
          "model_module_version": "1.5.0",
          "state": {
            "_view_name": "ProgressView",
            "style": "IPY_MODEL_efed4bf2e16f454f92193ba0383348f4",
            "_dom_classes": [],
            "description": "",
            "_model_name": "FloatProgressModel",
            "bar_style": "success",
            "max": 29515,
            "_view_module": "@jupyter-widgets/controls",
            "_model_module_version": "1.5.0",
            "value": 29515,
            "_view_count": null,
            "_view_module_version": "1.5.0",
            "orientation": "horizontal",
            "min": 0,
            "description_tooltip": null,
            "_model_module": "@jupyter-widgets/controls",
            "layout": "IPY_MODEL_c6991b15afe04d2baad459851ab9190a"
          }
        },
        "2cf26e31422646f498cd240d62c8ccf4": {
          "model_module": "@jupyter-widgets/controls",
          "model_name": "HTMLModel",
          "model_module_version": "1.5.0",
          "state": {
            "_view_name": "HTMLView",
            "style": "IPY_MODEL_2c8e95cafde043e48ee287ea305e13e4",
            "_dom_classes": [],
            "description": "",
            "_model_name": "HTMLModel",
            "placeholder": "​",
            "_view_module": "@jupyter-widgets/controls",
            "_model_module_version": "1.5.0",
            "value": " 29696/? [00:00&lt;00:00, 136512.23it/s]",
            "_view_count": null,
            "_view_module_version": "1.5.0",
            "description_tooltip": null,
            "_model_module": "@jupyter-widgets/controls",
            "layout": "IPY_MODEL_aa3d4f9163bc48eaaa119d06a7f2adcd"
          }
        },
        "3e034e71be284075abbd552940ad0eb6": {
          "model_module": "@jupyter-widgets/controls",
          "model_name": "DescriptionStyleModel",
          "model_module_version": "1.5.0",
          "state": {
            "_view_name": "StyleView",
            "_model_name": "DescriptionStyleModel",
            "description_width": "",
            "_view_module": "@jupyter-widgets/base",
            "_model_module_version": "1.5.0",
            "_view_count": null,
            "_view_module_version": "1.2.0",
            "_model_module": "@jupyter-widgets/controls"
          }
        },
        "5bf7f47d6f164260aba3711cac55d69f": {
          "model_module": "@jupyter-widgets/base",
          "model_name": "LayoutModel",
          "model_module_version": "1.2.0",
          "state": {
            "_view_name": "LayoutView",
            "grid_template_rows": null,
            "right": null,
            "justify_content": null,
            "_view_module": "@jupyter-widgets/base",
            "overflow": null,
            "_model_module_version": "1.2.0",
            "_view_count": null,
            "flex_flow": null,
            "width": null,
            "min_width": null,
            "border": null,
            "align_items": null,
            "bottom": null,
            "_model_module": "@jupyter-widgets/base",
            "top": null,
            "grid_column": null,
            "overflow_y": null,
            "overflow_x": null,
            "grid_auto_flow": null,
            "grid_area": null,
            "grid_template_columns": null,
            "flex": null,
            "_model_name": "LayoutModel",
            "justify_items": null,
            "grid_row": null,
            "max_height": null,
            "align_content": null,
            "visibility": null,
            "align_self": null,
            "height": null,
            "min_height": null,
            "padding": null,
            "grid_auto_rows": null,
            "grid_gap": null,
            "max_width": null,
            "order": null,
            "_view_module_version": "1.2.0",
            "grid_template_areas": null,
            "object_position": null,
            "object_fit": null,
            "grid_auto_columns": null,
            "margin": null,
            "display": null,
            "left": null
          }
        },
        "efed4bf2e16f454f92193ba0383348f4": {
          "model_module": "@jupyter-widgets/controls",
          "model_name": "ProgressStyleModel",
          "model_module_version": "1.5.0",
          "state": {
            "_view_name": "StyleView",
            "_model_name": "ProgressStyleModel",
            "description_width": "",
            "_view_module": "@jupyter-widgets/base",
            "_model_module_version": "1.5.0",
            "_view_count": null,
            "_view_module_version": "1.2.0",
            "bar_color": null,
            "_model_module": "@jupyter-widgets/controls"
          }
        },
        "c6991b15afe04d2baad459851ab9190a": {
          "model_module": "@jupyter-widgets/base",
          "model_name": "LayoutModel",
          "model_module_version": "1.2.0",
          "state": {
            "_view_name": "LayoutView",
            "grid_template_rows": null,
            "right": null,
            "justify_content": null,
            "_view_module": "@jupyter-widgets/base",
            "overflow": null,
            "_model_module_version": "1.2.0",
            "_view_count": null,
            "flex_flow": null,
            "width": null,
            "min_width": null,
            "border": null,
            "align_items": null,
            "bottom": null,
            "_model_module": "@jupyter-widgets/base",
            "top": null,
            "grid_column": null,
            "overflow_y": null,
            "overflow_x": null,
            "grid_auto_flow": null,
            "grid_area": null,
            "grid_template_columns": null,
            "flex": null,
            "_model_name": "LayoutModel",
            "justify_items": null,
            "grid_row": null,
            "max_height": null,
            "align_content": null,
            "visibility": null,
            "align_self": null,
            "height": null,
            "min_height": null,
            "padding": null,
            "grid_auto_rows": null,
            "grid_gap": null,
            "max_width": null,
            "order": null,
            "_view_module_version": "1.2.0",
            "grid_template_areas": null,
            "object_position": null,
            "object_fit": null,
            "grid_auto_columns": null,
            "margin": null,
            "display": null,
            "left": null
          }
        },
        "2c8e95cafde043e48ee287ea305e13e4": {
          "model_module": "@jupyter-widgets/controls",
          "model_name": "DescriptionStyleModel",
          "model_module_version": "1.5.0",
          "state": {
            "_view_name": "StyleView",
            "_model_name": "DescriptionStyleModel",
            "description_width": "",
            "_view_module": "@jupyter-widgets/base",
            "_model_module_version": "1.5.0",
            "_view_count": null,
            "_view_module_version": "1.2.0",
            "_model_module": "@jupyter-widgets/controls"
          }
        },
        "aa3d4f9163bc48eaaa119d06a7f2adcd": {
          "model_module": "@jupyter-widgets/base",
          "model_name": "LayoutModel",
          "model_module_version": "1.2.0",
          "state": {
            "_view_name": "LayoutView",
            "grid_template_rows": null,
            "right": null,
            "justify_content": null,
            "_view_module": "@jupyter-widgets/base",
            "overflow": null,
            "_model_module_version": "1.2.0",
            "_view_count": null,
            "flex_flow": null,
            "width": null,
            "min_width": null,
            "border": null,
            "align_items": null,
            "bottom": null,
            "_model_module": "@jupyter-widgets/base",
            "top": null,
            "grid_column": null,
            "overflow_y": null,
            "overflow_x": null,
            "grid_auto_flow": null,
            "grid_area": null,
            "grid_template_columns": null,
            "flex": null,
            "_model_name": "LayoutModel",
            "justify_items": null,
            "grid_row": null,
            "max_height": null,
            "align_content": null,
            "visibility": null,
            "align_self": null,
            "height": null,
            "min_height": null,
            "padding": null,
            "grid_auto_rows": null,
            "grid_gap": null,
            "max_width": null,
            "order": null,
            "_view_module_version": "1.2.0",
            "grid_template_areas": null,
            "object_position": null,
            "object_fit": null,
            "grid_auto_columns": null,
            "margin": null,
            "display": null,
            "left": null
          }
        },
        "3f8790729d7d4d69a5f192f8d63f45b7": {
          "model_module": "@jupyter-widgets/controls",
          "model_name": "HBoxModel",
          "model_module_version": "1.5.0",
          "state": {
            "_view_name": "HBoxView",
            "_dom_classes": [],
            "_model_name": "HBoxModel",
            "_view_module": "@jupyter-widgets/controls",
            "_model_module_version": "1.5.0",
            "_view_count": null,
            "_view_module_version": "1.5.0",
            "box_style": "",
            "layout": "IPY_MODEL_9b232763579148619f845b746c20cff6",
            "_model_module": "@jupyter-widgets/controls",
            "children": [
              "IPY_MODEL_617e9bdc88a1443aa0ea0d22c491a34f",
              "IPY_MODEL_a4ab0244a5974724a66f9b7e7922840f",
              "IPY_MODEL_a08c3c60a6a242bb9fc91bbcfd6b0b52"
            ]
          }
        },
        "9b232763579148619f845b746c20cff6": {
          "model_module": "@jupyter-widgets/base",
          "model_name": "LayoutModel",
          "model_module_version": "1.2.0",
          "state": {
            "_view_name": "LayoutView",
            "grid_template_rows": null,
            "right": null,
            "justify_content": null,
            "_view_module": "@jupyter-widgets/base",
            "overflow": null,
            "_model_module_version": "1.2.0",
            "_view_count": null,
            "flex_flow": null,
            "width": null,
            "min_width": null,
            "border": null,
            "align_items": null,
            "bottom": null,
            "_model_module": "@jupyter-widgets/base",
            "top": null,
            "grid_column": null,
            "overflow_y": null,
            "overflow_x": null,
            "grid_auto_flow": null,
            "grid_area": null,
            "grid_template_columns": null,
            "flex": null,
            "_model_name": "LayoutModel",
            "justify_items": null,
            "grid_row": null,
            "max_height": null,
            "align_content": null,
            "visibility": null,
            "align_self": null,
            "height": null,
            "min_height": null,
            "padding": null,
            "grid_auto_rows": null,
            "grid_gap": null,
            "max_width": null,
            "order": null,
            "_view_module_version": "1.2.0",
            "grid_template_areas": null,
            "object_position": null,
            "object_fit": null,
            "grid_auto_columns": null,
            "margin": null,
            "display": null,
            "left": null
          }
        },
        "617e9bdc88a1443aa0ea0d22c491a34f": {
          "model_module": "@jupyter-widgets/controls",
          "model_name": "HTMLModel",
          "model_module_version": "1.5.0",
          "state": {
            "_view_name": "HTMLView",
            "style": "IPY_MODEL_dfc5f0d342cb4c2aaf52e1f8eadfa7fe",
            "_dom_classes": [],
            "description": "",
            "_model_name": "HTMLModel",
            "placeholder": "​",
            "_view_module": "@jupyter-widgets/controls",
            "_model_module_version": "1.5.0",
            "value": "",
            "_view_count": null,
            "_view_module_version": "1.5.0",
            "description_tooltip": null,
            "_model_module": "@jupyter-widgets/controls",
            "layout": "IPY_MODEL_78e8f23b3eb5439cba68d52ae5fd4e68"
          }
        },
        "a4ab0244a5974724a66f9b7e7922840f": {
          "model_module": "@jupyter-widgets/controls",
          "model_name": "FloatProgressModel",
          "model_module_version": "1.5.0",
          "state": {
            "_view_name": "ProgressView",
            "style": "IPY_MODEL_382b3b82d44d43d28ba50690c7be00b8",
            "_dom_classes": [],
            "description": "",
            "_model_name": "FloatProgressModel",
            "bar_style": "success",
            "max": 4422102,
            "_view_module": "@jupyter-widgets/controls",
            "_model_module_version": "1.5.0",
            "value": 4422102,
            "_view_count": null,
            "_view_module_version": "1.5.0",
            "orientation": "horizontal",
            "min": 0,
            "description_tooltip": null,
            "_model_module": "@jupyter-widgets/controls",
            "layout": "IPY_MODEL_3fd5f46816024dbf97a011d0c81ff0aa"
          }
        },
        "a08c3c60a6a242bb9fc91bbcfd6b0b52": {
          "model_module": "@jupyter-widgets/controls",
          "model_name": "HTMLModel",
          "model_module_version": "1.5.0",
          "state": {
            "_view_name": "HTMLView",
            "style": "IPY_MODEL_924264e7fa204aeeb13e0ee1e7fca548",
            "_dom_classes": [],
            "description": "",
            "_model_name": "HTMLModel",
            "placeholder": "​",
            "_view_module": "@jupyter-widgets/controls",
            "_model_module_version": "1.5.0",
            "value": " 4422656/? [00:00&lt;00:00, 8849349.84it/s]",
            "_view_count": null,
            "_view_module_version": "1.5.0",
            "description_tooltip": null,
            "_model_module": "@jupyter-widgets/controls",
            "layout": "IPY_MODEL_d31b56ff10a741a781ee45514072e58b"
          }
        },
        "dfc5f0d342cb4c2aaf52e1f8eadfa7fe": {
          "model_module": "@jupyter-widgets/controls",
          "model_name": "DescriptionStyleModel",
          "model_module_version": "1.5.0",
          "state": {
            "_view_name": "StyleView",
            "_model_name": "DescriptionStyleModel",
            "description_width": "",
            "_view_module": "@jupyter-widgets/base",
            "_model_module_version": "1.5.0",
            "_view_count": null,
            "_view_module_version": "1.2.0",
            "_model_module": "@jupyter-widgets/controls"
          }
        },
        "78e8f23b3eb5439cba68d52ae5fd4e68": {
          "model_module": "@jupyter-widgets/base",
          "model_name": "LayoutModel",
          "model_module_version": "1.2.0",
          "state": {
            "_view_name": "LayoutView",
            "grid_template_rows": null,
            "right": null,
            "justify_content": null,
            "_view_module": "@jupyter-widgets/base",
            "overflow": null,
            "_model_module_version": "1.2.0",
            "_view_count": null,
            "flex_flow": null,
            "width": null,
            "min_width": null,
            "border": null,
            "align_items": null,
            "bottom": null,
            "_model_module": "@jupyter-widgets/base",
            "top": null,
            "grid_column": null,
            "overflow_y": null,
            "overflow_x": null,
            "grid_auto_flow": null,
            "grid_area": null,
            "grid_template_columns": null,
            "flex": null,
            "_model_name": "LayoutModel",
            "justify_items": null,
            "grid_row": null,
            "max_height": null,
            "align_content": null,
            "visibility": null,
            "align_self": null,
            "height": null,
            "min_height": null,
            "padding": null,
            "grid_auto_rows": null,
            "grid_gap": null,
            "max_width": null,
            "order": null,
            "_view_module_version": "1.2.0",
            "grid_template_areas": null,
            "object_position": null,
            "object_fit": null,
            "grid_auto_columns": null,
            "margin": null,
            "display": null,
            "left": null
          }
        },
        "382b3b82d44d43d28ba50690c7be00b8": {
          "model_module": "@jupyter-widgets/controls",
          "model_name": "ProgressStyleModel",
          "model_module_version": "1.5.0",
          "state": {
            "_view_name": "StyleView",
            "_model_name": "ProgressStyleModel",
            "description_width": "",
            "_view_module": "@jupyter-widgets/base",
            "_model_module_version": "1.5.0",
            "_view_count": null,
            "_view_module_version": "1.2.0",
            "bar_color": null,
            "_model_module": "@jupyter-widgets/controls"
          }
        },
        "3fd5f46816024dbf97a011d0c81ff0aa": {
          "model_module": "@jupyter-widgets/base",
          "model_name": "LayoutModel",
          "model_module_version": "1.2.0",
          "state": {
            "_view_name": "LayoutView",
            "grid_template_rows": null,
            "right": null,
            "justify_content": null,
            "_view_module": "@jupyter-widgets/base",
            "overflow": null,
            "_model_module_version": "1.2.0",
            "_view_count": null,
            "flex_flow": null,
            "width": null,
            "min_width": null,
            "border": null,
            "align_items": null,
            "bottom": null,
            "_model_module": "@jupyter-widgets/base",
            "top": null,
            "grid_column": null,
            "overflow_y": null,
            "overflow_x": null,
            "grid_auto_flow": null,
            "grid_area": null,
            "grid_template_columns": null,
            "flex": null,
            "_model_name": "LayoutModel",
            "justify_items": null,
            "grid_row": null,
            "max_height": null,
            "align_content": null,
            "visibility": null,
            "align_self": null,
            "height": null,
            "min_height": null,
            "padding": null,
            "grid_auto_rows": null,
            "grid_gap": null,
            "max_width": null,
            "order": null,
            "_view_module_version": "1.2.0",
            "grid_template_areas": null,
            "object_position": null,
            "object_fit": null,
            "grid_auto_columns": null,
            "margin": null,
            "display": null,
            "left": null
          }
        },
        "924264e7fa204aeeb13e0ee1e7fca548": {
          "model_module": "@jupyter-widgets/controls",
          "model_name": "DescriptionStyleModel",
          "model_module_version": "1.5.0",
          "state": {
            "_view_name": "StyleView",
            "_model_name": "DescriptionStyleModel",
            "description_width": "",
            "_view_module": "@jupyter-widgets/base",
            "_model_module_version": "1.5.0",
            "_view_count": null,
            "_view_module_version": "1.2.0",
            "_model_module": "@jupyter-widgets/controls"
          }
        },
        "d31b56ff10a741a781ee45514072e58b": {
          "model_module": "@jupyter-widgets/base",
          "model_name": "LayoutModel",
          "model_module_version": "1.2.0",
          "state": {
            "_view_name": "LayoutView",
            "grid_template_rows": null,
            "right": null,
            "justify_content": null,
            "_view_module": "@jupyter-widgets/base",
            "overflow": null,
            "_model_module_version": "1.2.0",
            "_view_count": null,
            "flex_flow": null,
            "width": null,
            "min_width": null,
            "border": null,
            "align_items": null,
            "bottom": null,
            "_model_module": "@jupyter-widgets/base",
            "top": null,
            "grid_column": null,
            "overflow_y": null,
            "overflow_x": null,
            "grid_auto_flow": null,
            "grid_area": null,
            "grid_template_columns": null,
            "flex": null,
            "_model_name": "LayoutModel",
            "justify_items": null,
            "grid_row": null,
            "max_height": null,
            "align_content": null,
            "visibility": null,
            "align_self": null,
            "height": null,
            "min_height": null,
            "padding": null,
            "grid_auto_rows": null,
            "grid_gap": null,
            "max_width": null,
            "order": null,
            "_view_module_version": "1.2.0",
            "grid_template_areas": null,
            "object_position": null,
            "object_fit": null,
            "grid_auto_columns": null,
            "margin": null,
            "display": null,
            "left": null
          }
        },
        "d4b26867ce8342f593da750d97393573": {
          "model_module": "@jupyter-widgets/controls",
          "model_name": "HBoxModel",
          "model_module_version": "1.5.0",
          "state": {
            "_view_name": "HBoxView",
            "_dom_classes": [],
            "_model_name": "HBoxModel",
            "_view_module": "@jupyter-widgets/controls",
            "_model_module_version": "1.5.0",
            "_view_count": null,
            "_view_module_version": "1.5.0",
            "box_style": "",
            "layout": "IPY_MODEL_8935753024e84b64a6f450795f7827a5",
            "_model_module": "@jupyter-widgets/controls",
            "children": [
              "IPY_MODEL_1d8f86a537474fc992fde92f54c5e201",
              "IPY_MODEL_dfcd00f8ef89484eaad0a40018a5491f",
              "IPY_MODEL_cc230ff408f14a6e91aab2826f34c3de"
            ]
          }
        },
        "8935753024e84b64a6f450795f7827a5": {
          "model_module": "@jupyter-widgets/base",
          "model_name": "LayoutModel",
          "model_module_version": "1.2.0",
          "state": {
            "_view_name": "LayoutView",
            "grid_template_rows": null,
            "right": null,
            "justify_content": null,
            "_view_module": "@jupyter-widgets/base",
            "overflow": null,
            "_model_module_version": "1.2.0",
            "_view_count": null,
            "flex_flow": null,
            "width": null,
            "min_width": null,
            "border": null,
            "align_items": null,
            "bottom": null,
            "_model_module": "@jupyter-widgets/base",
            "top": null,
            "grid_column": null,
            "overflow_y": null,
            "overflow_x": null,
            "grid_auto_flow": null,
            "grid_area": null,
            "grid_template_columns": null,
            "flex": null,
            "_model_name": "LayoutModel",
            "justify_items": null,
            "grid_row": null,
            "max_height": null,
            "align_content": null,
            "visibility": null,
            "align_self": null,
            "height": null,
            "min_height": null,
            "padding": null,
            "grid_auto_rows": null,
            "grid_gap": null,
            "max_width": null,
            "order": null,
            "_view_module_version": "1.2.0",
            "grid_template_areas": null,
            "object_position": null,
            "object_fit": null,
            "grid_auto_columns": null,
            "margin": null,
            "display": null,
            "left": null
          }
        },
        "1d8f86a537474fc992fde92f54c5e201": {
          "model_module": "@jupyter-widgets/controls",
          "model_name": "HTMLModel",
          "model_module_version": "1.5.0",
          "state": {
            "_view_name": "HTMLView",
            "style": "IPY_MODEL_b29b6ea49df847e1a5999919dbd3f436",
            "_dom_classes": [],
            "description": "",
            "_model_name": "HTMLModel",
            "placeholder": "​",
            "_view_module": "@jupyter-widgets/controls",
            "_model_module_version": "1.5.0",
            "value": "",
            "_view_count": null,
            "_view_module_version": "1.5.0",
            "description_tooltip": null,
            "_model_module": "@jupyter-widgets/controls",
            "layout": "IPY_MODEL_754e9d88d765421daea1cc39bad44afc"
          }
        },
        "dfcd00f8ef89484eaad0a40018a5491f": {
          "model_module": "@jupyter-widgets/controls",
          "model_name": "FloatProgressModel",
          "model_module_version": "1.5.0",
          "state": {
            "_view_name": "ProgressView",
            "style": "IPY_MODEL_52f4c2168d53481ea2b051327329027c",
            "_dom_classes": [],
            "description": "",
            "_model_name": "FloatProgressModel",
            "bar_style": "success",
            "max": 5148,
            "_view_module": "@jupyter-widgets/controls",
            "_model_module_version": "1.5.0",
            "value": 5148,
            "_view_count": null,
            "_view_module_version": "1.5.0",
            "orientation": "horizontal",
            "min": 0,
            "description_tooltip": null,
            "_model_module": "@jupyter-widgets/controls",
            "layout": "IPY_MODEL_769f7d1fc59045feb4c24775750ff55b"
          }
        },
        "cc230ff408f14a6e91aab2826f34c3de": {
          "model_module": "@jupyter-widgets/controls",
          "model_name": "HTMLModel",
          "model_module_version": "1.5.0",
          "state": {
            "_view_name": "HTMLView",
            "style": "IPY_MODEL_0758f3ac74e842a18f1b09231438d091",
            "_dom_classes": [],
            "description": "",
            "_model_name": "HTMLModel",
            "placeholder": "​",
            "_view_module": "@jupyter-widgets/controls",
            "_model_module_version": "1.5.0",
            "value": " 6144/? [00:00&lt;00:00, 140008.39it/s]",
            "_view_count": null,
            "_view_module_version": "1.5.0",
            "description_tooltip": null,
            "_model_module": "@jupyter-widgets/controls",
            "layout": "IPY_MODEL_e71a903614154243b042d370cd687695"
          }
        },
        "b29b6ea49df847e1a5999919dbd3f436": {
          "model_module": "@jupyter-widgets/controls",
          "model_name": "DescriptionStyleModel",
          "model_module_version": "1.5.0",
          "state": {
            "_view_name": "StyleView",
            "_model_name": "DescriptionStyleModel",
            "description_width": "",
            "_view_module": "@jupyter-widgets/base",
            "_model_module_version": "1.5.0",
            "_view_count": null,
            "_view_module_version": "1.2.0",
            "_model_module": "@jupyter-widgets/controls"
          }
        },
        "754e9d88d765421daea1cc39bad44afc": {
          "model_module": "@jupyter-widgets/base",
          "model_name": "LayoutModel",
          "model_module_version": "1.2.0",
          "state": {
            "_view_name": "LayoutView",
            "grid_template_rows": null,
            "right": null,
            "justify_content": null,
            "_view_module": "@jupyter-widgets/base",
            "overflow": null,
            "_model_module_version": "1.2.0",
            "_view_count": null,
            "flex_flow": null,
            "width": null,
            "min_width": null,
            "border": null,
            "align_items": null,
            "bottom": null,
            "_model_module": "@jupyter-widgets/base",
            "top": null,
            "grid_column": null,
            "overflow_y": null,
            "overflow_x": null,
            "grid_auto_flow": null,
            "grid_area": null,
            "grid_template_columns": null,
            "flex": null,
            "_model_name": "LayoutModel",
            "justify_items": null,
            "grid_row": null,
            "max_height": null,
            "align_content": null,
            "visibility": null,
            "align_self": null,
            "height": null,
            "min_height": null,
            "padding": null,
            "grid_auto_rows": null,
            "grid_gap": null,
            "max_width": null,
            "order": null,
            "_view_module_version": "1.2.0",
            "grid_template_areas": null,
            "object_position": null,
            "object_fit": null,
            "grid_auto_columns": null,
            "margin": null,
            "display": null,
            "left": null
          }
        },
        "52f4c2168d53481ea2b051327329027c": {
          "model_module": "@jupyter-widgets/controls",
          "model_name": "ProgressStyleModel",
          "model_module_version": "1.5.0",
          "state": {
            "_view_name": "StyleView",
            "_model_name": "ProgressStyleModel",
            "description_width": "",
            "_view_module": "@jupyter-widgets/base",
            "_model_module_version": "1.5.0",
            "_view_count": null,
            "_view_module_version": "1.2.0",
            "bar_color": null,
            "_model_module": "@jupyter-widgets/controls"
          }
        },
        "769f7d1fc59045feb4c24775750ff55b": {
          "model_module": "@jupyter-widgets/base",
          "model_name": "LayoutModel",
          "model_module_version": "1.2.0",
          "state": {
            "_view_name": "LayoutView",
            "grid_template_rows": null,
            "right": null,
            "justify_content": null,
            "_view_module": "@jupyter-widgets/base",
            "overflow": null,
            "_model_module_version": "1.2.0",
            "_view_count": null,
            "flex_flow": null,
            "width": null,
            "min_width": null,
            "border": null,
            "align_items": null,
            "bottom": null,
            "_model_module": "@jupyter-widgets/base",
            "top": null,
            "grid_column": null,
            "overflow_y": null,
            "overflow_x": null,
            "grid_auto_flow": null,
            "grid_area": null,
            "grid_template_columns": null,
            "flex": null,
            "_model_name": "LayoutModel",
            "justify_items": null,
            "grid_row": null,
            "max_height": null,
            "align_content": null,
            "visibility": null,
            "align_self": null,
            "height": null,
            "min_height": null,
            "padding": null,
            "grid_auto_rows": null,
            "grid_gap": null,
            "max_width": null,
            "order": null,
            "_view_module_version": "1.2.0",
            "grid_template_areas": null,
            "object_position": null,
            "object_fit": null,
            "grid_auto_columns": null,
            "margin": null,
            "display": null,
            "left": null
          }
        },
        "0758f3ac74e842a18f1b09231438d091": {
          "model_module": "@jupyter-widgets/controls",
          "model_name": "DescriptionStyleModel",
          "model_module_version": "1.5.0",
          "state": {
            "_view_name": "StyleView",
            "_model_name": "DescriptionStyleModel",
            "description_width": "",
            "_view_module": "@jupyter-widgets/base",
            "_model_module_version": "1.5.0",
            "_view_count": null,
            "_view_module_version": "1.2.0",
            "_model_module": "@jupyter-widgets/controls"
          }
        },
        "e71a903614154243b042d370cd687695": {
          "model_module": "@jupyter-widgets/base",
          "model_name": "LayoutModel",
          "model_module_version": "1.2.0",
          "state": {
            "_view_name": "LayoutView",
            "grid_template_rows": null,
            "right": null,
            "justify_content": null,
            "_view_module": "@jupyter-widgets/base",
            "overflow": null,
            "_model_module_version": "1.2.0",
            "_view_count": null,
            "flex_flow": null,
            "width": null,
            "min_width": null,
            "border": null,
            "align_items": null,
            "bottom": null,
            "_model_module": "@jupyter-widgets/base",
            "top": null,
            "grid_column": null,
            "overflow_y": null,
            "overflow_x": null,
            "grid_auto_flow": null,
            "grid_area": null,
            "grid_template_columns": null,
            "flex": null,
            "_model_name": "LayoutModel",
            "justify_items": null,
            "grid_row": null,
            "max_height": null,
            "align_content": null,
            "visibility": null,
            "align_self": null,
            "height": null,
            "min_height": null,
            "padding": null,
            "grid_auto_rows": null,
            "grid_gap": null,
            "max_width": null,
            "order": null,
            "_view_module_version": "1.2.0",
            "grid_template_areas": null,
            "object_position": null,
            "object_fit": null,
            "grid_auto_columns": null,
            "margin": null,
            "display": null,
            "left": null
          }
        }
      }
    }
  },
  "cells": [
    {
      "cell_type": "markdown",
      "metadata": {
        "id": "view-in-github",
        "colab_type": "text"
      },
      "source": [
        "<a href=\"https://colab.research.google.com/github/EG-Kim/pytorch_example_01/blob/master/5_Feedforward_Neural_Network_with_FashionMNIST.ipynb\" target=\"_parent\"><img src=\"https://colab.research.google.com/assets/colab-badge.svg\" alt=\"Open In Colab\"/></a>"
      ]
    },
    {
      "cell_type": "markdown",
      "metadata": {
        "id": "KnZbQwhsWgwo"
      },
      "source": [
        "## Feedforward Neural Network"
      ]
    },
    {
      "cell_type": "markdown",
      "metadata": {
        "id": "jBsVGGrn_FXQ"
      },
      "source": [
        "#### Fashion MNIST\n",
        "\n",
        "티셔츠, 운동화 등 작은 의복 이미지로 이루어진 데이터셋\n",
        "\n",
        "28*28 pixel의 이미지 70000장\n"
      ]
    },
    {
      "cell_type": "markdown",
      "metadata": {
        "id": "l4kKOE40eVD7"
      },
      "source": [
        "![대체 텍스트](https://3qeqpr26caki16dnhd19sv6by6v-wpengine.netdna-ssl.com/wp-content/uploads/2019/02/Plot-of-a-Subset-of-Images-from-the-Fashion-MNIST-Dataset-1024x768.png)"
      ]
    },
    {
      "cell_type": "markdown",
      "metadata": {
        "id": "6jnv8ej4wMnE"
      },
      "source": [
        "#### 모듈 불러오기"
      ]
    },
    {
      "cell_type": "code",
      "metadata": {
        "id": "pkDT7fgKwPok"
      },
      "source": [
        "import torch\n",
        "import torch.nn as nn\n",
        "import torchvision\n",
        "import torchvision.transforms as transforms\n",
        "import matplotlib.pyplot as plt\n",
        "import numpy as np"
      ],
      "execution_count": 1,
      "outputs": []
    },
    {
      "cell_type": "markdown",
      "metadata": {
        "id": "riYTCIigwVYk"
      },
      "source": [
        "#### Device configuration"
      ]
    },
    {
      "cell_type": "code",
      "metadata": {
        "id": "zRYzHquIwU7k",
        "colab": {
          "base_uri": "https://localhost:8080/"
        },
        "outputId": "e3fbc59b-4517-4a55-d3de-e28a2c889603"
      },
      "source": [
        "# Device configuration\n",
        "device = torch.device('cuda' if torch.cuda.is_available() else 'cpu')\n",
        "print(device)"
      ],
      "execution_count": 2,
      "outputs": [
        {
          "output_type": "stream",
          "name": "stdout",
          "text": [
            "cuda\n"
          ]
        }
      ]
    },
    {
      "cell_type": "markdown",
      "metadata": {
        "id": "uYWfBATMwYVz"
      },
      "source": [
        "#### Hyper-parameters "
      ]
    },
    {
      "cell_type": "code",
      "metadata": {
        "id": "F60dqm7cweSO"
      },
      "source": [
        "# Hyper-parameters \n",
        "input_size = 784\n",
        "hidden_size = 500\n",
        "num_classes = 10\n",
        "num_epochs = 5\n",
        "batch_size = 100\n",
        "learning_rate = 0.001"
      ],
      "execution_count": 3,
      "outputs": []
    },
    {
      "cell_type": "markdown",
      "metadata": {
        "id": "3bSZuJWKwfPh"
      },
      "source": [
        "#### Fashion MNIST dataset "
      ]
    },
    {
      "cell_type": "code",
      "metadata": {
        "id": "uebz5Qjdwhw6",
        "colab": {
          "base_uri": "https://localhost:8080/",
          "height": 489,
          "referenced_widgets": [
            "9e8af563ca5a4f798c8f22b23ec173b1",
            "32b8e1cec2c745c2bbf0008e208ecc80",
            "1ebe908ebc8b400baf763197bbb03c75",
            "196caf5ee25e404582340034735df922",
            "09fcaefd9f5442698036bdfbf45a5fe9",
            "d80510e4d44a45ec862e2299c84f2e06",
            "59341267ad864850b6a9a927f0aeabca",
            "4dd543f824ca4a3aaf23867e1c495bd6",
            "884842c312c341ac9f3e9e06c6a3e54f",
            "e2b2df51e89f41d6acff09bce6648357",
            "1188e50935ce4924a650d22717858b1f",
            "828fd1afe4ae4a4e96310f7ca6350e3c",
            "4fe42769a157449bb13d56696c938cbf",
            "5d0beeb2c0b14b97b01d9dfbf135d0ab",
            "f74fe387648f44c8aaff7d256ab8722a",
            "2cf26e31422646f498cd240d62c8ccf4",
            "3e034e71be284075abbd552940ad0eb6",
            "5bf7f47d6f164260aba3711cac55d69f",
            "efed4bf2e16f454f92193ba0383348f4",
            "c6991b15afe04d2baad459851ab9190a",
            "2c8e95cafde043e48ee287ea305e13e4",
            "aa3d4f9163bc48eaaa119d06a7f2adcd",
            "3f8790729d7d4d69a5f192f8d63f45b7",
            "9b232763579148619f845b746c20cff6",
            "617e9bdc88a1443aa0ea0d22c491a34f",
            "a4ab0244a5974724a66f9b7e7922840f",
            "a08c3c60a6a242bb9fc91bbcfd6b0b52",
            "dfc5f0d342cb4c2aaf52e1f8eadfa7fe",
            "78e8f23b3eb5439cba68d52ae5fd4e68",
            "382b3b82d44d43d28ba50690c7be00b8",
            "3fd5f46816024dbf97a011d0c81ff0aa",
            "924264e7fa204aeeb13e0ee1e7fca548",
            "d31b56ff10a741a781ee45514072e58b",
            "d4b26867ce8342f593da750d97393573",
            "8935753024e84b64a6f450795f7827a5",
            "1d8f86a537474fc992fde92f54c5e201",
            "dfcd00f8ef89484eaad0a40018a5491f",
            "cc230ff408f14a6e91aab2826f34c3de",
            "b29b6ea49df847e1a5999919dbd3f436",
            "754e9d88d765421daea1cc39bad44afc",
            "52f4c2168d53481ea2b051327329027c",
            "769f7d1fc59045feb4c24775750ff55b",
            "0758f3ac74e842a18f1b09231438d091",
            "e71a903614154243b042d370cd687695"
          ]
        },
        "outputId": "383ceefe-8afd-40a3-cffc-c034d4186eb3"
      },
      "source": [
        "# Fashion MNIST dataset. torchvision에서 제공해주는 dataset download\n",
        "train_dataset = torchvision.datasets.FashionMNIST(root='../../data', \n",
        "                                                  train=True, \n",
        "                                                  transform=transforms.ToTensor(),  \n",
        "                                                  download=True)\n",
        "\n",
        "test_dataset = torchvision.datasets.FashionMNIST(root='../../data', \n",
        "                                                 train=False, \n",
        "                                                 transform=transforms.ToTensor())\n",
        "\n",
        "# Data loader. dataloader class를 이용하여 데이터셋을 학습하기 쉽도록 만듦.\n",
        "train_loader = torch.utils.data.DataLoader(dataset=train_dataset, \n",
        "                                           batch_size=batch_size, \n",
        "                                           shuffle=True)\n",
        "\n",
        "test_loader = torch.utils.data.DataLoader(dataset=test_dataset, \n",
        "                                          batch_size=batch_size, \n",
        "                                          shuffle=False)"
      ],
      "execution_count": 4,
      "outputs": [
        {
          "output_type": "stream",
          "name": "stdout",
          "text": [
            "Downloading http://fashion-mnist.s3-website.eu-central-1.amazonaws.com/train-images-idx3-ubyte.gz\n",
            "Downloading http://fashion-mnist.s3-website.eu-central-1.amazonaws.com/train-images-idx3-ubyte.gz to ../../data/FashionMNIST/raw/train-images-idx3-ubyte.gz\n"
          ]
        },
        {
          "output_type": "display_data",
          "data": {
            "application/vnd.jupyter.widget-view+json": {
              "model_id": "9e8af563ca5a4f798c8f22b23ec173b1",
              "version_minor": 0,
              "version_major": 2
            },
            "text/plain": [
              "  0%|          | 0/26421880 [00:00<?, ?it/s]"
            ]
          },
          "metadata": {}
        },
        {
          "output_type": "stream",
          "name": "stdout",
          "text": [
            "Extracting ../../data/FashionMNIST/raw/train-images-idx3-ubyte.gz to ../../data/FashionMNIST/raw\n",
            "\n",
            "Downloading http://fashion-mnist.s3-website.eu-central-1.amazonaws.com/train-labels-idx1-ubyte.gz\n",
            "Downloading http://fashion-mnist.s3-website.eu-central-1.amazonaws.com/train-labels-idx1-ubyte.gz to ../../data/FashionMNIST/raw/train-labels-idx1-ubyte.gz\n"
          ]
        },
        {
          "output_type": "display_data",
          "data": {
            "application/vnd.jupyter.widget-view+json": {
              "model_id": "828fd1afe4ae4a4e96310f7ca6350e3c",
              "version_minor": 0,
              "version_major": 2
            },
            "text/plain": [
              "  0%|          | 0/29515 [00:00<?, ?it/s]"
            ]
          },
          "metadata": {}
        },
        {
          "output_type": "stream",
          "name": "stdout",
          "text": [
            "Extracting ../../data/FashionMNIST/raw/train-labels-idx1-ubyte.gz to ../../data/FashionMNIST/raw\n",
            "\n",
            "Downloading http://fashion-mnist.s3-website.eu-central-1.amazonaws.com/t10k-images-idx3-ubyte.gz\n",
            "Downloading http://fashion-mnist.s3-website.eu-central-1.amazonaws.com/t10k-images-idx3-ubyte.gz to ../../data/FashionMNIST/raw/t10k-images-idx3-ubyte.gz\n"
          ]
        },
        {
          "output_type": "display_data",
          "data": {
            "application/vnd.jupyter.widget-view+json": {
              "model_id": "3f8790729d7d4d69a5f192f8d63f45b7",
              "version_minor": 0,
              "version_major": 2
            },
            "text/plain": [
              "  0%|          | 0/4422102 [00:00<?, ?it/s]"
            ]
          },
          "metadata": {}
        },
        {
          "output_type": "stream",
          "name": "stdout",
          "text": [
            "Extracting ../../data/FashionMNIST/raw/t10k-images-idx3-ubyte.gz to ../../data/FashionMNIST/raw\n",
            "\n",
            "Downloading http://fashion-mnist.s3-website.eu-central-1.amazonaws.com/t10k-labels-idx1-ubyte.gz\n",
            "Downloading http://fashion-mnist.s3-website.eu-central-1.amazonaws.com/t10k-labels-idx1-ubyte.gz to ../../data/FashionMNIST/raw/t10k-labels-idx1-ubyte.gz\n"
          ]
        },
        {
          "output_type": "display_data",
          "data": {
            "application/vnd.jupyter.widget-view+json": {
              "model_id": "d4b26867ce8342f593da750d97393573",
              "version_minor": 0,
              "version_major": 2
            },
            "text/plain": [
              "  0%|          | 0/5148 [00:00<?, ?it/s]"
            ]
          },
          "metadata": {}
        },
        {
          "output_type": "stream",
          "name": "stdout",
          "text": [
            "Extracting ../../data/FashionMNIST/raw/t10k-labels-idx1-ubyte.gz to ../../data/FashionMNIST/raw\n",
            "\n"
          ]
        },
        {
          "output_type": "stream",
          "name": "stderr",
          "text": [
            "/usr/local/lib/python3.7/dist-packages/torchvision/datasets/mnist.py:498: UserWarning: The given NumPy array is not writeable, and PyTorch does not support non-writeable tensors. This means you can write to the underlying (supposedly non-writeable) NumPy array using the tensor. You may want to copy the array to protect its data or make it writeable before converting it to a tensor. This type of warning will be suppressed for the rest of this program. (Triggered internally at  /pytorch/torch/csrc/utils/tensor_numpy.cpp:180.)\n",
            "  return torch.from_numpy(parsed.astype(m[2], copy=False)).view(*s)\n"
          ]
        }
      ]
    },
    {
      "cell_type": "markdown",
      "metadata": {
        "id": "BkWEUGjewppJ"
      },
      "source": [
        "#### Fully connected neural network with one hidden layer"
      ]
    },
    {
      "cell_type": "markdown",
      "metadata": {
        "id": "a7cnzlm-4cOD"
      },
      "source": [
        "![1hiddenlayer.jpeg](data:image/jpeg;base64,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)"
      ]
    },
    {
      "cell_type": "code",
      "metadata": {
        "id": "HRLzYadAwtXo"
      },
      "source": [
        "# hidden layer = 1인 모델 만들기\n",
        "class NeuralNet(nn.Module):\n",
        "    def __init__(self, input_size, hidden_size, num_classes): # 생성자 정의.\n",
        "        super(NeuralNet, self).__init__() # super() 함수: 부르면 여기서 만든 NeuralNet class는 nn.Module class의 속성들을 가지고 초기화됨\n",
        "        self.fc1 = nn.Linear(input_size, hidden_size)  # fully connected layer\n",
        "        self.relu = nn.ReLU() # activation function\n",
        "        self.fc2 = nn.Linear(hidden_size, num_classes)  \n",
        "    \n",
        "    def forward(self, x): # 전방계산\n",
        "        out = self.fc1(x)\n",
        "        out = self.relu(out)\n",
        "        out = self.fc2(out)\n",
        "        return out\n",
        "\n",
        "model = NeuralNet(input_size, hidden_size, num_classes).to(device)"
      ],
      "execution_count": 5,
      "outputs": []
    },
    {
      "cell_type": "markdown",
      "metadata": {
        "id": "cf8MXr0fwuOL"
      },
      "source": [
        "#### Loss and optimizer\n"
      ]
    },
    {
      "cell_type": "code",
      "metadata": {
        "id": "25wZB8qfwzIx"
      },
      "source": [
        "criterion = nn.CrossEntropyLoss()\n",
        "optimizer = torch.optim.SGD(model.parameters(), lr=learning_rate) "
      ],
      "execution_count": 6,
      "outputs": []
    },
    {
      "cell_type": "markdown",
      "metadata": {
        "id": "XFSBd4l4w0cY"
      },
      "source": [
        "#### Train the model"
      ]
    },
    {
      "cell_type": "code",
      "metadata": {
        "id": "l6PDNjYaw3ne",
        "colab": {
          "base_uri": "https://localhost:8080/"
        },
        "outputId": "71b61c18-2cb9-4cb3-e7bb-7f9ad0159173"
      },
      "source": [
        "total_step = len(train_loader) # total train dataset 60000 / batch size 100 = 600\n",
        "for epoch in range(num_epochs):\n",
        "    for i, (images, labels) in enumerate(train_loader):  \n",
        "        # Move tensors to the configured device\n",
        "        images = images.reshape(-1, 28*28).to(device)\n",
        "        labels = labels.to(device)\n",
        "        \n",
        "        # Forward pass\n",
        "        outputs = model(images)\n",
        "        loss = criterion(outputs, labels)\n",
        "        \n",
        "        # Backward and optimize\n",
        "        optimizer.zero_grad()\n",
        "        loss.backward()\n",
        "        optimizer.step()\n",
        "        \n",
        "        if (i+1) % 100 == 0:\n",
        "            print ('Epoch [{}/{}], Step [{}/{}], Loss: {:.4f}' \n",
        "                   .format(epoch+1, num_epochs, i+1, total_step, loss.item()))"
      ],
      "execution_count": 7,
      "outputs": [
        {
          "output_type": "stream",
          "name": "stdout",
          "text": [
            "Epoch [1/5], Step [100/600], Loss: 2.2505\n",
            "Epoch [1/5], Step [200/600], Loss: 2.1721\n",
            "Epoch [1/5], Step [300/600], Loss: 2.1389\n",
            "Epoch [1/5], Step [400/600], Loss: 2.0838\n",
            "Epoch [1/5], Step [500/600], Loss: 2.0642\n",
            "Epoch [1/5], Step [600/600], Loss: 2.0033\n",
            "Epoch [2/5], Step [100/600], Loss: 1.9510\n",
            "Epoch [2/5], Step [200/600], Loss: 1.9467\n",
            "Epoch [2/5], Step [300/600], Loss: 1.8236\n",
            "Epoch [2/5], Step [400/600], Loss: 1.7864\n",
            "Epoch [2/5], Step [500/600], Loss: 1.7112\n",
            "Epoch [2/5], Step [600/600], Loss: 1.6721\n",
            "Epoch [3/5], Step [100/600], Loss: 1.6388\n",
            "Epoch [3/5], Step [200/600], Loss: 1.6309\n",
            "Epoch [3/5], Step [300/600], Loss: 1.5819\n",
            "Epoch [3/5], Step [400/600], Loss: 1.5165\n",
            "Epoch [3/5], Step [500/600], Loss: 1.4673\n",
            "Epoch [3/5], Step [600/600], Loss: 1.3778\n",
            "Epoch [4/5], Step [100/600], Loss: 1.3965\n",
            "Epoch [4/5], Step [200/600], Loss: 1.2997\n",
            "Epoch [4/5], Step [300/600], Loss: 1.3077\n",
            "Epoch [4/5], Step [400/600], Loss: 1.2168\n",
            "Epoch [4/5], Step [500/600], Loss: 1.2480\n",
            "Epoch [4/5], Step [600/600], Loss: 1.1896\n",
            "Epoch [5/5], Step [100/600], Loss: 1.1751\n",
            "Epoch [5/5], Step [200/600], Loss: 1.1593\n",
            "Epoch [5/5], Step [300/600], Loss: 1.0721\n",
            "Epoch [5/5], Step [400/600], Loss: 1.0519\n",
            "Epoch [5/5], Step [500/600], Loss: 1.2324\n",
            "Epoch [5/5], Step [600/600], Loss: 1.0906\n"
          ]
        }
      ]
    },
    {
      "cell_type": "markdown",
      "metadata": {
        "id": "8lF51OWuw5MR"
      },
      "source": [
        "#### Test the model"
      ]
    },
    {
      "cell_type": "code",
      "metadata": {
        "id": "52KCes0GWBdR",
        "colab": {
          "base_uri": "https://localhost:8080/"
        },
        "outputId": "0bcf3b98-7c16-42a5-8b9e-8d8dfd40e290"
      },
      "source": [
        "# In test phase, we don't need to compute gradients (for memory efficiency)\n",
        "with torch.no_grad():\n",
        "    correct = 0\n",
        "    total = 0\n",
        "    for images, labels in test_loader:\n",
        "        images = images.reshape(-1, 28*28).to(device)\n",
        "        labels = labels.to(device)\n",
        "        outputs = model(images)\n",
        "        _, predicted = torch.max(outputs.data, 1)\n",
        "        total += labels.size(0)\n",
        "        correct += (predicted == labels).sum().item()\n",
        "\n",
        "    print('Accuracy of the network on the 10000 test images: {} %'.format(100 * correct / total))\n"
      ],
      "execution_count": 8,
      "outputs": [
        {
          "output_type": "stream",
          "name": "stdout",
          "text": [
            "Accuracy of the network on the 10000 test images: 66.44 %\n"
          ]
        }
      ]
    },
    {
      "cell_type": "code",
      "metadata": {
        "id": "IoO_6gCgc-eI",
        "colab": {
          "base_uri": "https://localhost:8080/",
          "height": 1000
        },
        "outputId": "4294c8c9-af3c-4474-a8f6-37b5fe297a02"
      },
      "source": [
        "# functions to show an image\n",
        "def imshow(img):\n",
        "    npimg = img.numpy()\n",
        "    plt.figure(figsize=(20, 20))\n",
        "    plt.imshow(np.transpose(npimg, (1, 2, 0)))\n",
        "    plt.show()\n",
        "\n",
        "\n",
        "with torch.no_grad():\n",
        "    # get some random training images\n",
        "    dataiter = iter(test_loader)\n",
        "    images, labels = dataiter.next()\n",
        "\n",
        "    # show images\n",
        "    imshow(torchvision.utils.make_grid(images, nrow=10))\n",
        "    \n",
        "    images = images.reshape(-1, 28*28).to(device)\n",
        "    outputs = model(images)\n",
        "    \n",
        "    _, predicted = torch.max(outputs.data, 1)\n",
        "    \n",
        "    \n",
        "\n",
        "    \n",
        "    # print labels\n",
        "    print(\"ground truth: \", labels)\n",
        "    print(\"predicted: \", predicted)"
      ],
      "execution_count": 10,
      "outputs": [
        {
          "output_type": "display_data",
          "data": {
            "image/png": "[encoded data removed]",
            "text/plain": [
              "<Figure size 1440x1440 with 1 Axes>"
            ]
          },
          "metadata": {
            "needs_background": "light"
          }
        },
        {
          "output_type": "stream",
          "name": "stdout",
          "text": [
            "ground truth:  tensor([9, 2, 1, 1, 6, 1, 4, 6, 5, 7, 4, 5, 7, 3, 4, 1, 2, 4, 8, 0, 2, 5, 7, 9,\n",
            "        1, 4, 6, 0, 9, 3, 8, 8, 3, 3, 8, 0, 7, 5, 7, 9, 6, 1, 3, 7, 6, 7, 2, 1,\n",
            "        2, 2, 4, 4, 5, 8, 2, 2, 8, 4, 8, 0, 7, 7, 8, 5, 1, 1, 2, 3, 9, 8, 7, 0,\n",
            "        2, 6, 2, 3, 1, 2, 8, 4, 1, 8, 5, 9, 5, 0, 3, 2, 0, 6, 5, 3, 6, 7, 1, 8,\n",
            "        0, 1, 4, 2])\n",
            "predicted:  tensor([9, 2, 1, 1, 6, 1, 4, 4, 7, 7, 2, 9, 7, 3, 4, 1, 2, 2, 8, 0, 0, 7, 7, 7,\n",
            "        1, 2, 4, 3, 9, 3, 8, 8, 3, 3, 8, 0, 7, 7, 7, 9, 0, 1, 3, 9, 4, 9, 2, 1,\n",
            "        4, 2, 2, 2, 7, 2, 4, 2, 8, 4, 8, 0, 7, 7, 8, 7, 1, 1, 3, 3, 7, 8, 7, 0,\n",
            "        2, 0, 4, 3, 1, 2, 8, 2, 1, 8, 9, 9, 7, 0, 3, 4, 0, 2, 5, 3, 4, 7, 1, 8,\n",
            "        0, 1, 2, 2], device='cuda:0')\n"
          ]
        }
      ]
    },
    {
      "cell_type": "markdown",
      "metadata": {
        "id": "6rnFQ53CdRO_"
      },
      "source": [
        "## 실습\n",
        "\n",
        "\n",
        "https://paperswithcode.com/sota/image-classification-on-fashion-mnist\n",
        "\n",
        "hyper parameter를 조절하여 85% 이상의 정확도를 달성하세요."
      ]
    },
    {
      "cell_type": "code",
      "metadata": {
        "id": "GJgLPcWQc_e5",
        "colab": {
          "base_uri": "https://localhost:8080/"
        },
        "outputId": "ef0eabbf-6d38-469b-bd3b-20778391933d"
      },
      "source": [
        "# Hyper-parameters \n",
        "input_size = 784\n",
        "hidden_size = 500\n",
        "num_classes = 10\n",
        "num_epochs = 10\n",
        "batch_size = 100\n",
        "learning_rate = 0.001\n",
        "\n",
        "\n",
        "class NeuralNet(nn.Module):\n",
        "    def __init__(self, input_size, hidden_size, num_classes):\n",
        "        super(NeuralNet, self).__init__()\n",
        "        self.fc1 = nn.Linear(input_size, hidden_size) \n",
        "        self.relu = nn.ReLU()\n",
        "        self.fc2 = nn.Linear(hidden_size, num_classes)  \n",
        "    \n",
        "    def forward(self, x):\n",
        "        out = self.fc1(x)\n",
        "        out = self.relu(out)\n",
        "        out = self.fc2(out)\n",
        "        return out\n",
        "\n",
        "model = NeuralNet(input_size, hidden_size, num_classes).to(device)\n",
        "\n",
        "criterion = nn.CrossEntropyLoss()\n",
        "optimizer = torch.optim.SGD(model.parameters(), lr=learning_rate) \n",
        "\n",
        "total_step = len(train_loader)\n",
        "for epoch in range(num_epochs):\n",
        "    for i, (images, labels) in enumerate(train_loader):  \n",
        "        # Move tensors to the configured device\n",
        "        images = images.reshape(-1, 28*28).to(device)\n",
        "        labels = labels.to(device)\n",
        "        \n",
        "        # Forward pass\n",
        "        outputs = model(images)\n",
        "        loss = criterion(outputs, labels)\n",
        "        \n",
        "        # Backward and optimize\n",
        "        optimizer.zero_grad()\n",
        "        loss.backward()\n",
        "        optimizer.step()\n",
        "        \n",
        "        if (i+1) % 100 == 0:\n",
        "            print ('Epoch [{}/{}], Step [{}/{}], Loss: {:.4f}' \n",
        "                   .format(epoch+1, num_epochs, i+1, total_step, loss.item()))\n",
        "            \n",
        "            \n",
        "# In test phase, we don't need to compute gradients (for memory efficiency)\n",
        "with torch.no_grad():\n",
        "    correct = 0\n",
        "    total = 0\n",
        "    for images, labels in test_loader:\n",
        "        images = images.reshape(-1, 28*28).to(device)\n",
        "        labels = labels.to(device)\n",
        "        outputs = model(images)\n",
        "        _, predicted = torch.max(outputs.data, 1)\n",
        "        total += labels.size(0)\n",
        "        correct += (predicted == labels).sum().item()\n",
        "\n",
        "    print('Accuracy of the network on the 10000 test images: {} %'.format(100 * correct / total))\n"
      ],
      "execution_count": 11,
      "outputs": [
        {
          "output_type": "stream",
          "name": "stdout",
          "text": [
            "Epoch [1/10], Step [100/600], Loss: 2.2415\n",
            "Epoch [1/10], Step [200/600], Loss: 2.1769\n",
            "Epoch [1/10], Step [300/600], Loss: 2.1272\n",
            "Epoch [1/10], Step [400/600], Loss: 2.0793\n",
            "Epoch [1/10], Step [500/600], Loss: 2.0508\n",
            "Epoch [1/10], Step [600/600], Loss: 1.9503\n",
            "Epoch [2/10], Step [100/600], Loss: 1.9044\n",
            "Epoch [2/10], Step [200/600], Loss: 1.8982\n",
            "Epoch [2/10], Step [300/600], Loss: 1.8042\n",
            "Epoch [2/10], Step [400/600], Loss: 1.7419\n",
            "Epoch [2/10], Step [500/600], Loss: 1.6977\n",
            "Epoch [2/10], Step [600/600], Loss: 1.6357\n",
            "Epoch [3/10], Step [100/600], Loss: 1.5558\n",
            "Epoch [3/10], Step [200/600], Loss: 1.6154\n",
            "Epoch [3/10], Step [300/600], Loss: 1.4463\n",
            "Epoch [3/10], Step [400/600], Loss: 1.5387\n",
            "Epoch [3/10], Step [500/600], Loss: 1.4594\n",
            "Epoch [3/10], Step [600/600], Loss: 1.4095\n",
            "Epoch [4/10], Step [100/600], Loss: 1.3685\n",
            "Epoch [4/10], Step [200/600], Loss: 1.4300\n",
            "Epoch [4/10], Step [300/600], Loss: 1.3033\n",
            "Epoch [4/10], Step [400/600], Loss: 1.2403\n",
            "Epoch [4/10], Step [500/600], Loss: 1.2379\n",
            "Epoch [4/10], Step [600/600], Loss: 1.2696\n",
            "Epoch [5/10], Step [100/600], Loss: 1.2149\n",
            "Epoch [5/10], Step [200/600], Loss: 1.1643\n",
            "Epoch [5/10], Step [300/600], Loss: 1.1779\n",
            "Epoch [5/10], Step [400/600], Loss: 1.1768\n",
            "Epoch [5/10], Step [500/600], Loss: 1.1792\n",
            "Epoch [5/10], Step [600/600], Loss: 1.0756\n",
            "Epoch [6/10], Step [100/600], Loss: 1.0625\n",
            "Epoch [6/10], Step [200/600], Loss: 1.0095\n",
            "Epoch [6/10], Step [300/600], Loss: 1.1750\n",
            "Epoch [6/10], Step [400/600], Loss: 1.0847\n",
            "Epoch [6/10], Step [500/600], Loss: 1.0961\n",
            "Epoch [6/10], Step [600/600], Loss: 1.0828\n",
            "Epoch [7/10], Step [100/600], Loss: 1.0113\n",
            "Epoch [7/10], Step [200/600], Loss: 1.0159\n",
            "Epoch [7/10], Step [300/600], Loss: 1.1060\n",
            "Epoch [7/10], Step [400/600], Loss: 0.9239\n",
            "Epoch [7/10], Step [500/600], Loss: 0.9370\n",
            "Epoch [7/10], Step [600/600], Loss: 0.8758\n",
            "Epoch [8/10], Step [100/600], Loss: 1.0303\n",
            "Epoch [8/10], Step [200/600], Loss: 0.9488\n",
            "Epoch [8/10], Step [300/600], Loss: 1.0347\n",
            "Epoch [8/10], Step [400/600], Loss: 0.9957\n",
            "Epoch [8/10], Step [500/600], Loss: 1.0213\n",
            "Epoch [8/10], Step [600/600], Loss: 0.8126\n",
            "Epoch [9/10], Step [100/600], Loss: 0.8723\n",
            "Epoch [9/10], Step [200/600], Loss: 1.0188\n",
            "Epoch [9/10], Step [300/600], Loss: 0.9492\n",
            "Epoch [9/10], Step [400/600], Loss: 0.9735\n",
            "Epoch [9/10], Step [500/600], Loss: 0.9442\n",
            "Epoch [9/10], Step [600/600], Loss: 0.9423\n",
            "Epoch [10/10], Step [100/600], Loss: 0.8807\n",
            "Epoch [10/10], Step [200/600], Loss: 0.8899\n",
            "Epoch [10/10], Step [300/600], Loss: 0.7972\n",
            "Epoch [10/10], Step [400/600], Loss: 0.8445\n",
            "Epoch [10/10], Step [500/600], Loss: 0.7078\n",
            "Epoch [10/10], Step [600/600], Loss: 0.7953\n",
            "Accuracy of the network on the 10000 test images: 70.79 %\n"
          ]
        }
      ]
    },
    {
      "cell_type": "markdown",
      "metadata": {
        "id": "zvMNaY6hxFIT"
      },
      "source": [
        "다음 주차 CNN 코드 맛보기"
      ]
    },
    {
      "cell_type": "code",
      "metadata": {
        "id": "XsnMI2DMdtwA",
        "colab": {
          "base_uri": "https://localhost:8080/"
        },
        "outputId": "8e1fe732-df2b-4e3e-a514-aa9df49442bd"
      },
      "source": [
        "# Hyper-parameters \n",
        "input_size = (28, 28)\n",
        "hidden_size = 500\n",
        "num_classes = 10\n",
        "num_epochs = 10\n",
        "batch_size = 100\n",
        "learning_rate = 0.0006\n",
        "\n",
        "\n",
        "class NeuralNet(nn.Module):\n",
        "    def __init__(self, input_size, hidden_size, num_classes):\n",
        "        super(NeuralNet, self).__init__()\n",
        "        self.conv1 = nn.Conv2d(1, 32, kernel_size=3, padding=1)\n",
        "        self.conv2 = nn.Conv2d(32, 64, kernel_size=5, padding=2)\n",
        "        self.pool = nn.MaxPool2d(2, 2)\n",
        "        self.relu = nn.LeakyReLU()\n",
        "        self.fc2 = nn.Linear(7*7*64, num_classes)\n",
        "    \n",
        "    def forward(self, x):\n",
        "        out = self.conv1(x)\n",
        "        out = self.relu(out)\n",
        "        out = self.pool(out)\n",
        "\n",
        "        out = self.conv2(out)\n",
        "        out = self.relu(out)\n",
        "        out = self.pool(out)\n",
        "\n",
        "        out = out.reshape(-1, 7*7*64)\n",
        "        out = self.fc2(out)\n",
        "        return out\n",
        "\n",
        "model = NeuralNet(input_size, hidden_size, num_classes).to(device)\n",
        "\n",
        "criterion = nn.CrossEntropyLoss()\n",
        "optimizer = torch.optim.Adam(model.parameters(), lr=learning_rate) \n",
        "\n",
        "total_step = len(train_loader)\n",
        "for epoch in range(num_epochs):\n",
        "    for i, (images, labels) in enumerate(train_loader):  \n",
        "        # Move tensors to the configured device\n",
        "        #images = images.reshape(-1, 28*28).to(device)\n",
        "        images = images.to(device)\n",
        "        labels = labels.to(device)\n",
        "        \n",
        "        # Forward pass\n",
        "        outputs = model(images)\n",
        "        loss = criterion(outputs, labels)\n",
        "        \n",
        "        # Backward and optimize\n",
        "        optimizer.zero_grad()\n",
        "        loss.backward()\n",
        "        optimizer.step()\n",
        "        \n",
        "        if (i+1) % 100 == 0:\n",
        "            print ('Epoch [{}/{}], Step [{}/{}], Loss: {:.4f}' \n",
        "                   .format(epoch+1, num_epochs, i+1, total_step, loss.item()))\n",
        "            \n",
        "            \n",
        "# In test phase, we don't need to compute gradients (for memory efficiency)\n",
        "with torch.no_grad():\n",
        "    correct = 0\n",
        "    total = 0\n",
        "    for images, labels in test_loader:\n",
        "        # images = images.reshape(-1, 28*28).to(device)\n",
        "        images = images.to(device)\n",
        "        labels = labels.to(device)\n",
        "        outputs = model(images)\n",
        "        _, predicted = torch.max(outputs.data, 1)\n",
        "        total += labels.size(0)\n",
        "        correct += (predicted == labels).sum().item()\n",
        "\n",
        "    print('Accuracy of the network on the 10000 test images: {} %'.format(100 * correct / total))\n"
      ],
      "execution_count": 12,
      "outputs": [
        {
          "output_type": "stream",
          "name": "stderr",
          "text": [
            "/usr/local/lib/python3.7/dist-packages/torch/nn/functional.py:718: UserWarning: Named tensors and all their associated APIs are an experimental feature and subject to change. Please do not use them for anything important until they are released as stable. (Triggered internally at  /pytorch/c10/core/TensorImpl.h:1156.)\n",
            "  return torch.max_pool2d(input, kernel_size, stride, padding, dilation, ceil_mode)\n"
          ]
        },
        {
          "output_type": "stream",
          "name": "stdout",
          "text": [
            "Epoch [1/10], Step [100/600], Loss: 0.5714\n",
            "Epoch [1/10], Step [200/600], Loss: 0.6096\n",
            "Epoch [1/10], Step [300/600], Loss: 0.3698\n",
            "Epoch [1/10], Step [400/600], Loss: 0.4176\n",
            "Epoch [1/10], Step [500/600], Loss: 0.3173\n",
            "Epoch [1/10], Step [600/600], Loss: 0.3772\n",
            "Epoch [2/10], Step [100/600], Loss: 0.3927\n",
            "Epoch [2/10], Step [200/600], Loss: 0.2155\n",
            "Epoch [2/10], Step [300/600], Loss: 0.3765\n",
            "Epoch [2/10], Step [400/600], Loss: 0.2907\n",
            "Epoch [2/10], Step [500/600], Loss: 0.2710\n",
            "Epoch [2/10], Step [600/600], Loss: 0.4533\n",
            "Epoch [3/10], Step [100/600], Loss: 0.2924\n",
            "Epoch [3/10], Step [200/600], Loss: 0.2861\n",
            "Epoch [3/10], Step [300/600], Loss: 0.1761\n",
            "Epoch [3/10], Step [400/600], Loss: 0.3202\n",
            "Epoch [3/10], Step [500/600], Loss: 0.1776\n",
            "Epoch [3/10], Step [600/600], Loss: 0.2880\n",
            "Epoch [4/10], Step [100/600], Loss: 0.3364\n",
            "Epoch [4/10], Step [200/600], Loss: 0.2997\n",
            "Epoch [4/10], Step [300/600], Loss: 0.3179\n",
            "Epoch [4/10], Step [400/600], Loss: 0.1604\n",
            "Epoch [4/10], Step [500/600], Loss: 0.2033\n",
            "Epoch [4/10], Step [600/600], Loss: 0.3109\n",
            "Epoch [5/10], Step [100/600], Loss: 0.2158\n",
            "Epoch [5/10], Step [200/600], Loss: 0.2810\n",
            "Epoch [5/10], Step [300/600], Loss: 0.2284\n",
            "Epoch [5/10], Step [400/600], Loss: 0.4011\n",
            "Epoch [5/10], Step [500/600], Loss: 0.3569\n",
            "Epoch [5/10], Step [600/600], Loss: 0.1474\n",
            "Epoch [6/10], Step [100/600], Loss: 0.2812\n",
            "Epoch [6/10], Step [200/600], Loss: 0.1929\n",
            "Epoch [6/10], Step [300/600], Loss: 0.1377\n",
            "Epoch [6/10], Step [400/600], Loss: 0.1827\n",
            "Epoch [6/10], Step [500/600], Loss: 0.2191\n",
            "Epoch [6/10], Step [600/600], Loss: 0.2859\n",
            "Epoch [7/10], Step [100/600], Loss: 0.1978\n",
            "Epoch [7/10], Step [200/600], Loss: 0.2101\n",
            "Epoch [7/10], Step [300/600], Loss: 0.1611\n",
            "Epoch [7/10], Step [400/600], Loss: 0.2807\n",
            "Epoch [7/10], Step [500/600], Loss: 0.2756\n",
            "Epoch [7/10], Step [600/600], Loss: 0.2380\n",
            "Epoch [8/10], Step [100/600], Loss: 0.1553\n",
            "Epoch [8/10], Step [200/600], Loss: 0.2744\n",
            "Epoch [8/10], Step [300/600], Loss: 0.1973\n",
            "Epoch [8/10], Step [400/600], Loss: 0.3593\n",
            "Epoch [8/10], Step [500/600], Loss: 0.2746\n",
            "Epoch [8/10], Step [600/600], Loss: 0.2124\n",
            "Epoch [9/10], Step [100/600], Loss: 0.1084\n",
            "Epoch [9/10], Step [200/600], Loss: 0.3107\n",
            "Epoch [9/10], Step [300/600], Loss: 0.2355\n",
            "Epoch [9/10], Step [400/600], Loss: 0.0919\n",
            "Epoch [9/10], Step [500/600], Loss: 0.2081\n",
            "Epoch [9/10], Step [600/600], Loss: 0.2502\n",
            "Epoch [10/10], Step [100/600], Loss: 0.2126\n",
            "Epoch [10/10], Step [200/600], Loss: 0.1704\n",
            "Epoch [10/10], Step [300/600], Loss: 0.1965\n",
            "Epoch [10/10], Step [400/600], Loss: 0.1708\n",
            "Epoch [10/10], Step [500/600], Loss: 0.2003\n",
            "Epoch [10/10], Step [600/600], Loss: 0.1367\n",
            "Accuracy of the network on the 10000 test images: 91.54 %\n"
          ]
        }
      ]
    }
  ]
}