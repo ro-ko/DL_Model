{
  "nbformat": 4,
  "nbformat_minor": 0,
  "metadata": {
    "colab": {
      "name": "4. Feedforward Neural Network with MNIST.ipynb의 사본의 사본",
      "provenance": [],
      "include_colab_link": true
    },
    "kernelspec": {
      "name": "python3",
      "display_name": "Python 3"
    }
  },
  "cells": [
    {
      "cell_type": "markdown",
      "metadata": {
        "id": "view-in-github",
        "colab_type": "text"
      },
      "source": [
        "<a href=\"https://colab.research.google.com/github/EG-Kim/pytorch_example_01/blob/master/4_Feedforward_Neural_Network_with_MNIST.ipynb\" target=\"_parent\"><img src=\"https://colab.research.google.com/assets/colab-badge.svg\" alt=\"Open In Colab\"/></a>"
      ]
    },
    {
      "cell_type": "markdown",
      "metadata": {
        "id": "KnZbQwhsWgwo"
      },
      "source": [
        "## Feedforward Neural Network"
      ]
    },
    {
      "cell_type": "markdown",
      "metadata": {
        "id": "l4kKOE40eVD7"
      },
      "source": [
        "![대체 텍스트](https://i.imgur.com/wJbR7EW.png)"
      ]
    },
    {
      "cell_type": "markdown",
      "metadata": {
        "id": "6jnv8ej4wMnE"
      },
      "source": [
        "모듈 불러오기"
      ]
    },
    {
      "cell_type": "code",
      "metadata": {
        "id": "pkDT7fgKwPok"
      },
      "source": [
        "import torch\n",
        "import torch.nn as nn\n",
        "import torchvision\n",
        "import torchvision.transforms as transforms\n",
        "import matplotlib.pyplot as plt\n",
        "import numpy as np"
      ],
      "execution_count": null,
      "outputs": []
    },
    {
      "cell_type": "markdown",
      "metadata": {
        "id": "riYTCIigwVYk"
      },
      "source": [
        "#### Device configuration"
      ]
    },
    {
      "cell_type": "code",
      "metadata": {
        "id": "zRYzHquIwU7k"
      },
      "source": [
        "# Device configuration\n",
        "device = torch.device('cuda' if torch.cuda.is_available() else 'cpu')"
      ],
      "execution_count": null,
      "outputs": []
    },
    {
      "cell_type": "markdown",
      "metadata": {
        "id": "uYWfBATMwYVz"
      },
      "source": [
        "#### Hyper-parameters "
      ]
    },
    {
      "cell_type": "code",
      "metadata": {
        "id": "F60dqm7cweSO"
      },
      "source": [
        "# Hyper-parameters \n",
        "input_size = 784\n",
        "hidden_size = 500\n",
        "num_classes = 10\n",
        "num_epochs = 5\n",
        "batch_size = 100\n",
        "learning_rate = 0.001"
      ],
      "execution_count": null,
      "outputs": []
    },
    {
      "cell_type": "markdown",
      "metadata": {
        "id": "3bSZuJWKwfPh"
      },
      "source": [
        "#### MNIST dataset "
      ]
    },
    {
      "cell_type": "code",
      "metadata": {
        "id": "uebz5Qjdwhw6"
      },
      "source": [
        "# MNIST dataset \n",
        "train_dataset = torchvision.datasets.MNIST(root='../../data', \n",
        "                                           train=True, \n",
        "                                           transform=transforms.ToTensor(),  \n",
        "                                           download=True)\n",
        "\n",
        "test_dataset = torchvision.datasets.MNIST(root='../../data', \n",
        "                                          train=False, \n",
        "                                          transform=transforms.ToTensor())\n",
        "\n",
        "# Data loader\n",
        "train_loader = torch.utils.data.DataLoader(dataset=train_dataset, \n",
        "                                           batch_size=batch_size, \n",
        "                                           shuffle=True)\n",
        "\n",
        "test_loader = torch.utils.data.DataLoader(dataset=test_dataset, \n",
        "                                          batch_size=batch_size, \n",
        "                                          shuffle=False)"
      ],
      "execution_count": null,
      "outputs": []
    },
    {
      "cell_type": "markdown",
      "metadata": {
        "id": "BkWEUGjewppJ"
      },
      "source": [
        "#### Fully connected neural network with one hidden layer"
      ]
    },
    {
      "cell_type": "code",
      "metadata": {
        "id": "HRLzYadAwtXo"
      },
      "source": [
        "# torch.nn.Module을 상속받아 만든 class\n",
        "class NeuralNet(nn.Module):\n",
        "    def __init__(self, input_size, hidden_size, num_classes):   # __init__()에서 모델의 구조와 동작을 정의하는 생성자 정의\n",
        "    # 생성자: 파이썬에서 객체가 갖는 속성값 초기화. 객체가 생성될 때 자동 호출\n",
        "        super(NeuralNet, self).__init__() # super() 함수: 부르면 여기서 만든 NeuralNet class는 nn.Module class의 속성들을 가지고 초기화됨\n",
        "        self.fc1 = nn.Linear(input_size, hidden_size) # fully connected layer\n",
        "        self.relu = nn.ReLU() # activation function 활성 함수\n",
        "        self.fc2 = nn.Linear(hidden_size, num_classes)  \n",
        "    \n",
        "    def forward(self, x): # forward() 함수는 모델이 학습데이터를 입력받아 forward 연산을 진행시키는 함수.\n",
        "        out = self.fc1(x)\n",
        "        out = self.relu(out)\n",
        "        out = self.fc2(out)\n",
        "        return out\n",
        "\n",
        "model = NeuralNet(input_size, hidden_size, num_classes).to(device) # model 객체를 NeuralNet 클래스로 생성. 각각의 생성자는 괄호 안에.\n",
        "# to(device)를 통해 device에 model 올림"
      ],
      "execution_count": null,
      "outputs": []
    },
    {
      "cell_type": "markdown",
      "metadata": {
        "id": "cf8MXr0fwuOL"
      },
      "source": [
        "#### Loss and optimizer\n"
      ]
    },
    {
      "cell_type": "code",
      "metadata": {
        "id": "25wZB8qfwzIx"
      },
      "source": [
        "criterion = nn.CrossEntropyLoss()\n",
        "optimizer = torch.optim.SGD(model.parameters(), lr=learning_rate) "
      ],
      "execution_count": null,
      "outputs": []
    },
    {
      "cell_type": "markdown",
      "metadata": {
        "id": "XFSBd4l4w0cY"
      },
      "source": [
        "#### Train the model"
      ]
    },
    {
      "cell_type": "code",
      "metadata": {
        "id": "l6PDNjYaw3ne"
      },
      "source": [
        "total_step = len(train_loader) # 600. batch size가 100이므로 훈련집합 전체 60000장 나누기 batch size 100.\n",
        "for epoch in range(num_epochs):\n",
        "    for i, (images, labels) in enumerate(train_loader):  \n",
        "        # Move tensors to the configured device\n",
        "        images = images.reshape(-1, 28*28).to(device)\n",
        "        labels = labels.to(device)\n",
        "        \n",
        "        # Forward pass\n",
        "        outputs = model(images) # model 객체를 데이터(images) 와 함께 호출 -> 앞서 class에 구현해둔 forward 함수 자동 실행\n",
        "        loss = criterion(outputs, labels)\n",
        "        \n",
        "        # Backward and optimize\n",
        "        optimizer.zero_grad() # 텐서의 미분 값 전부 0으로 초기화\n",
        "        loss.backward() # 미분\n",
        "        optimizer.step() # 가중치 업데이트\n",
        "        \n",
        "        if (i+1) % 100 == 0:\n",
        "            print ('Epoch [{}/{}], Step [{}/{}], Loss: {:.4f}' \n",
        "                   .format(epoch+1, num_epochs, i+1, total_step, loss.item()))"
      ],
      "execution_count": null,
      "outputs": []
    },
    {
      "cell_type": "markdown",
      "metadata": {
        "id": "8lF51OWuw5MR"
      },
      "source": [
        "#### Test the model"
      ]
    },
    {
      "cell_type": "code",
      "metadata": {
        "id": "52KCes0GWBdR"
      },
      "source": [
        "# In test phase, we don't need to compute gradients (for memory efficiency) \n",
        "# torch.no_grad()로 감쌈 -> 가중치를 추적할 필요 X -> 계산에 필요한 메모리 적게 듦\n",
        "with torch.no_grad():\n",
        "    correct = 0\n",
        "    total = 0\n",
        "    for images, labels in test_loader:\n",
        "        images = images.reshape(-1, 28*28).to(device) # 28*28로 1자로 펴서 to(device)를 통해 장치(gpu)로\n",
        "        labels = labels.to(device) # to(device)를 이용해 장치로 보내야 연산 가능\n",
        "        outputs = model(images) # 모델 예측 결과(점수) 계산\n",
        "        _, predicted = torch.max(outputs.data, 1) # 예측값. torch.max()에서 우리가 필요한 몇 번째 label이 가장 큰 점수를 맞았는가. \n",
        "        total += labels.size(0) \n",
        "        correct += (predicted == labels).sum().item() # 맞춘 개수\n",
        "\n",
        "    print('Accuracy of the network on the 10000 test images: {} %'.format(100 * correct / total))\n"
      ],
      "execution_count": null,
      "outputs": []
    },
    {
      "cell_type": "code",
      "metadata": {
        "id": "IoO_6gCgc-eI"
      },
      "source": [
        "# functions to show an image\n",
        "def imshow(img):\n",
        "    npimg = img.numpy() # 이미지를 numpy로 변환\n",
        "    plt.imshow(np.transpose(npimg, (1, 2, 0))) \n",
        "    plt.show()\n",
        "\n",
        "\n",
        "with torch.no_grad(): # 미분 계산 필요없음\n",
        "    # get some random training images\n",
        "    dataiter = iter(test_loader) \n",
        "    images, labels = dataiter.next() # 한 배치 100장 꺼내오기\n",
        "\n",
        "    # show images\n",
        "    imshow(torchvision.utils.make_grid(images))\n",
        "    \n",
        "    images = images.reshape(-1, 28*28) # 모델에 넣기 위해 모양 변화\n",
        "    outputs = model(images) # 모델이 예측한 값\n",
        "    \n",
        "    _, predicted = torch.max(outputs.data, 1) # 0-9까지 가장 높은 점수를 가진 예측값\n",
        "    \n",
        "    \n",
        "\n",
        "    \n",
        "    # print labels\n",
        "    print(\"ground truth: \", labels) # 정답값\n",
        "    print(\"predicted: \", predicted) # 예측값"
      ],
      "execution_count": null,
      "outputs": []
    },
    {
      "cell_type": "markdown",
      "metadata": {
        "id": "6rnFQ53CdRO_"
      },
      "source": [
        "## 실습\n",
        "\n",
        "\n",
        "http://yann.lecun.com/exdb/mnist/\n",
        "\n",
        "hyper parameter를 조절하여 위사이트의 2-layer NN의 성능과 근접하게 만드세요"
      ]
    },
    {
      "cell_type": "code",
      "metadata": {
        "id": "GJgLPcWQc_e5"
      },
      "source": [
        "# Hyper-parameters \n",
        "input_size = 784\n",
        "hidden_size = 500\n",
        "num_classes = 10\n",
        "num_epochs = 10\n",
        "batch_size = 100\n",
        "learning_rate = 0.001\n",
        "\n",
        "\n",
        "class NeuralNet(nn.Module):\n",
        "    def __init__(self, input_size, hidden_size, num_classes):\n",
        "        super(NeuralNet, self).__init__()\n",
        "        self.fc1 = nn.Linear(input_size, hidden_size) \n",
        "        self.relu = nn.ReLU()\n",
        "        self.fc2 = nn.Linear(hidden_size, num_classes)  \n",
        "    \n",
        "    def forward(self, x):\n",
        "        out = self.fc1(x)\n",
        "        out = self.relu(out)\n",
        "        out = self.fc2(out)\n",
        "        return out\n",
        "\n",
        "model = NeuralNet(input_size, hidden_size, num_classes).to(device)\n",
        "\n",
        "criterion = nn.CrossEntropyLoss()\n",
        "optimizer = torch.optim.SGD(model.parameters(), lr=learning_rate) \n",
        "\n",
        "total_step = len(train_loader)\n",
        "for epoch in range(num_epochs):\n",
        "    for i, (images, labels) in enumerate(train_loader):  \n",
        "        # Move tensors to the configured device\n",
        "        images = images.reshape(-1, 28*28).to(device)\n",
        "        labels = labels.to(device)\n",
        "        \n",
        "        # Forward pass\n",
        "        outputs = model(images)\n",
        "        loss = criterion(outputs, labels)\n",
        "        \n",
        "        # Backward and optimize\n",
        "        optimizer.zero_grad()\n",
        "        loss.backward()\n",
        "        optimizer.step()\n",
        "        \n",
        "        if (i+1) % 100 == 0:\n",
        "            print ('Epoch [{}/{}], Step [{}/{}], Loss: {:.4f}' \n",
        "                   .format(epoch+1, num_epochs, i+1, total_step, loss.item()))\n",
        "            \n",
        "            \n",
        "# In test phase, we don't need to compute gradients (for memory efficiency)\n",
        "with torch.no_grad():\n",
        "    correct = 0\n",
        "    total = 0\n",
        "    for images, labels in test_loader:\n",
        "        images = images.reshape(-1, 28*28).to(device)\n",
        "        labels = labels.to(device)\n",
        "        outputs = model(images)\n",
        "        _, predicted = torch.max(outputs.data, 1)\n",
        "        total += labels.size(0)\n",
        "        correct += (predicted == labels).sum().item()\n",
        "\n",
        "    print('Accuracy of the network on the 10000 test images: {} %'.format(100 * correct / total))\n"
      ],
      "execution_count": null,
      "outputs": []
    }
  ]
}